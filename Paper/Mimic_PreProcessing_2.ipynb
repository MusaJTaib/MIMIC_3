{
 "cells": [
  {
   "cell_type": "markdown",
   "id": "840ea170-a970-4959-b97f-6a1436884b51",
   "metadata": {
    "tags": []
   },
   "source": [
    "# MIMIC Pre-Processing Example\n",
    "The output of the [MIMIC Pre-Processing Example](./MimicPreprocessingExample.ipynb) notebook generates a series of irregularly spaced timestamped dynamic data features.  This notebook demonstrates how to group those dynamic features into one or more regularly spaced time windows."
   ]
  },
  {
   "cell_type": "code",
   "execution_count": null,
   "id": "15f46e22-1b3b-4bb4-93f9-4e47c66271d7",
   "metadata": {},
   "outputs": [],
   "source": [
    "import numpy as np\n",
    "import pandas as pd\n",
    "import dask.dataframe as dd\n",
    "from dask.diagnostics import ProgressBar\n",
    "import os\n",
    "from sklearn.preprocessing import LabelEncoder \n",
    "\n",
    "from tqdm.auto import tqdm, trange\n",
    "from tqdm.notebook import tqdm\n",
    "tqdm.pandas()"
   ]
  },
  {
   "cell_type": "code",
   "execution_count": null,
   "id": "6f442782-7d54-42a9-96d5-a44fe23b6594",
   "metadata": {},
   "outputs": [],
   "source": [
    "dataDirStr = '/Users/MusaJTaib/Desktop/Education/Semesters/Faith_JobWork/MIMIC_Codes/MIMIC_3/'   # MIMIC CSV file location.\n",
    "cacheDirStr = '/Users/MusaJTaib/Desktop/Education/Semesters/Faith_JobWork/MIMIC_Codes/MIMIC_3/cache/'  # Cache directory for intermediate files."
   ]
  },
  {
   "cell_type": "markdown",
   "id": "274987d0-e50e-42bb-a43d-215ec4ccdc10",
   "metadata": {},
   "source": [
    "## Load Data\n",
    "---"
   ]
  },
  {
   "cell_type": "code",
   "execution_count": null,
   "id": "ade81a0b-3261-4613-82ff-10dfebe5f3a4",
   "metadata": {},
   "outputs": [],
   "source": [
    "events = pd.read_parquet(cacheDirStr + 'ElapsedTimeEvents.parquet')"
   ]
  },
  {
   "cell_type": "code",
   "execution_count": null,
   "id": "26f1be84",
   "metadata": {},
   "outputs": [],
   "source": [
    "events['GscEyes'] = events['GscEyes'].fillna(0)\n",
    "events['GscVerbal']=events['GscVerbal'].fillna(0)\n",
    "events['GscMotor']=events['GscMotor'].fillna(0)"
   ]
  },
  {
   "cell_type": "code",
   "execution_count": null,
   "id": "87b426ca",
   "metadata": {},
   "outputs": [],
   "source": [
    "events['GscEyes'] = events['GscEyes'].replace(0, np.nan)\n",
    "events['GscVerbal'] = events['GscVerbal'].replace(0, np.nan)\n",
    "events['GscMotor'] = events['GscMotor'].replace(0, np.nan)"
   ]
  },
  {
   "cell_type": "code",
   "execution_count": null,
   "id": "b7e3d0fd",
   "metadata": {},
   "outputs": [],
   "source": [
    "unique_values = events['GscEyes'].unique()"
   ]
  },
  {
   "cell_type": "code",
   "execution_count": null,
   "id": "6d4d4155-ece9-4193-b7ae-59d6334b4d84",
   "metadata": {},
   "outputs": [],
   "source": [
    "events"
   ]
  },
  {
   "cell_type": "markdown",
   "id": "7693d5f1-ad2d-4807-b0b2-ce14673a1578",
   "metadata": {},
   "source": [
    "### Feature Types"
   ]
  },
  {
   "cell_type": "code",
   "execution_count": null,
   "id": "f586251e-cad0-402f-bb00-18d4e02f3e54",
   "metadata": {},
   "outputs": [],
   "source": [
    "catFtrs = [ 'ServiceType', 'AdmitType', 'GscVerbal', 'GscMotor', 'GscEyes' ] \n",
    "\n",
    "contFtrs = [ 'SystolicBloodPressure', 'HeartRate', 'Temperature', 'BloodO2', 'Urine' ]\n",
    "\n",
    "staticFtrs = [  'Age', 'Aids', 'Cancer', 'Death' ]"
   ]
  },
  {
   "cell_type": "markdown",
   "id": "0e05fe6e-d6f2-4ab4-9664-ab6726e615ad",
   "metadata": {},
   "source": [
    "## Define Observation Window\n",
    "---"
   ]
  },
  {
   "cell_type": "code",
   "execution_count": null,
   "id": "9df3ac73-3a78-40eb-a278-d8a723f8445e",
   "metadata": {},
   "outputs": [],
   "source": [
    "tO = pd.Timedelta(f'{48*60*60}S') # Observation window length, T_O (seconds). 48 hours\n",
    "events = events.loc[events.Time < tO]"
   ]
  },
  {
   "cell_type": "code",
   "execution_count": null,
   "id": "767d8abc",
   "metadata": {},
   "outputs": [],
   "source": [
    "df = events.reset_index()"
   ]
  },
  {
   "cell_type": "code",
   "execution_count": null,
   "id": "ae2f89a2",
   "metadata": {},
   "outputs": [],
   "source": [
    "df['Time'] = pd.to_timedelta(df['Time'])\n",
    "\n",
    "new_rows = []\n",
    "\n",
    "for subject in df['SubjectId'].unique():\n",
    "    time_range = pd.timedelta_range(start='0 days', end='2 days', freq='30T')\n",
    "    \n",
    "    subject_df = pd.DataFrame({'Time': time_range})\n",
    "    subject_df['SubjectId'] = subject\n",
    "    \n",
    "    new_rows.append(subject_df)\n",
    "\n",
    "new_rows_df = pd.concat(new_rows)\n",
    "\n",
    "merged_df = pd.merge(df, new_rows_df, on=['SubjectId', 'Time'], how='outer')\n",
    "\n",
    "merged_df = merged_df.sort_values(by=['SubjectId', 'Time']).reset_index(drop=True)"
   ]
  },
  {
   "cell_type": "code",
   "execution_count": null,
   "id": "800767f2-b660-4a7a-a84d-d0ce5bad0181",
   "metadata": {},
   "outputs": [],
   "source": [
    "events = merged_df"
   ]
  },
  {
   "cell_type": "markdown",
   "id": "a9a4eafb-59d6-48c1-9bf9-e147df0f2520",
   "metadata": {
    "tags": []
   },
   "source": [
    "## One Hot Encode Categorical Features\n",
    "---"
   ]
  },
  {
   "cell_type": "code",
   "execution_count": null,
   "id": "4e4fcdde-de4a-4d5c-bc13-72a5868585a2",
   "metadata": {},
   "outputs": [],
   "source": [
    "oneHot = pd.DataFrame(index=events.index)"
   ]
  },
  {
   "cell_type": "code",
   "execution_count": null,
   "id": "29a8f1bd",
   "metadata": {},
   "outputs": [],
   "source": [
    "print(events.columns)"
   ]
  },
  {
   "cell_type": "code",
   "execution_count": null,
   "id": "217a0dc9-0e0e-47e8-b535-463c87bb47fc",
   "metadata": {},
   "outputs": [],
   "source": [
    "for c in tqdm(catFtrs):\n",
    "    oneHot = pd.concat([ oneHot, pd.get_dummies(events[c],prefix=c) ], axis=1)"
   ]
  },
  {
   "cell_type": "code",
   "execution_count": null,
   "id": "34ca0e93-9c81-45c8-807c-decccfdbc571",
   "metadata": {},
   "outputs": [],
   "source": [
    "oneHotCols = list(oneHot.columns)"
   ]
  },
  {
   "cell_type": "code",
   "execution_count": null,
   "id": "971155bc-edbe-4e2c-8902-3a160d95b32f",
   "metadata": {},
   "outputs": [],
   "source": [
    "events = pd.concat([ events.drop(columns=catFtrs), oneHot ], axis=1)"
   ]
  },
  {
   "cell_type": "markdown",
   "id": "f8621413-4b0c-4295-b4ea-ab2fe9fe416b",
   "metadata": {},
   "source": [
    "## Resample Into Time Bins\n",
    "---"
   ]
  },
  {
   "cell_type": "code",
   "execution_count": null,
   "id": "bd6cd3bd",
   "metadata": {},
   "outputs": [],
   "source": [
    "NW = 12"
   ]
  },
  {
   "cell_type": "code",
   "execution_count": null,
   "id": "e8db9841-6971-49b3-9b6d-a26807524aab",
   "metadata": {},
   "outputs": [],
   "source": [
    "tB = f'{(48*60*60)/NW}S' # Bin size (seconds)."
   ]
  },
  {
   "cell_type": "markdown",
   "id": "c1fc3924-4b6e-4d87-a406-64f4847e7d7d",
   "metadata": {},
   "source": [
    "### One Hot Encoded Features\n",
    "Sum up how many events fall into each time bin."
   ]
  },
  {
   "cell_type": "code",
   "execution_count": null,
   "id": "a235ef8e-6d43-444a-96a5-b907f3091bd9",
   "metadata": {},
   "outputs": [],
   "source": [
    "eventsBin = events[['Time']+oneHotCols].groupby(level=0).resample(on='Time',rule=tB).sum()"
   ]
  },
  {
   "cell_type": "markdown",
   "id": "d09f053c-9845-4bd3-a1e4-54e384b028f4",
   "metadata": {},
   "source": [
    "### Continuous Features\n",
    "Take the average of the feature value for each time bin."
   ]
  },
  {
   "cell_type": "code",
   "execution_count": null,
   "id": "92f5aaeb-55c2-4ecb-9e03-9e059130801b",
   "metadata": {},
   "outputs": [],
   "source": [
    "eventsBinNew = events[['Time']+contFtrs].groupby(level=0).resample(on='Time',rule=tB).mean()"
   ]
  },
  {
   "cell_type": "code",
   "execution_count": null,
   "id": "92d58740-b7f3-493d-9ccf-9a10ca53e43c",
   "metadata": {},
   "outputs": [],
   "source": [
    "eventsBin = pd.concat([eventsBin, eventsBinNew], axis=1)"
   ]
  },
  {
   "cell_type": "markdown",
   "id": "275351aa-fb64-40cd-a7f5-2be1e8db3276",
   "metadata": {},
   "source": [
    "### Static Features\n",
    "Copy static features across all time bins since they don't change."
   ]
  },
  {
   "cell_type": "code",
   "execution_count": null,
   "id": "eb37b458-ae2c-4c46-876c-39cb399f0e1f",
   "metadata": {},
   "outputs": [],
   "source": [
    "staticTbl = events[staticFtrs].groupby(level=0).apply(lambda x: x.iloc[0,:])"
   ]
  },
  {
   "cell_type": "code",
   "execution_count": null,
   "id": "f00f6cfb-46ee-4da3-b7f6-3657645fe61c",
   "metadata": {},
   "outputs": [],
   "source": [
    "idx = eventsBin.index.get_level_values(0)"
   ]
  },
  {
   "cell_type": "code",
   "execution_count": null,
   "id": "5cbf9fc3-79f5-4959-bf6f-273ecaa874b5",
   "metadata": {},
   "outputs": [],
   "source": [
    "for c in staticFtrs:\n",
    "    eventsBin[c] = staticTbl.loc[idx,c].values"
   ]
  },
  {
   "cell_type": "markdown",
   "id": "fffd946f-e2e6-4aea-9320-3b227919a401",
   "metadata": {},
   "source": [
    "## Save Windowed Data"
   ]
  },
  {
   "cell_type": "code",
   "execution_count": null,
   "id": "217cc9f7-43e5-42e0-9edc-8a8fdfbbfc78",
   "metadata": {},
   "outputs": [],
   "source": [
    "eventsBin"
   ]
  },
  {
   "cell_type": "code",
   "execution_count": null,
   "id": "8d19f1c7-15fb-4b18-8cb0-9754b7f75dc6",
   "metadata": {},
   "outputs": [],
   "source": [
    "eventsBin.to_csv('MIMIC/DATA_' + str(NW) + '.csv')"
   ]
  }
 ],
 "metadata": {
  "kernelspec": {
   "display_name": "Python 3 (ipykernel)",
   "language": "python",
   "name": "python3"
  },
  "language_info": {
   "codemirror_mode": {
    "name": "ipython",
    "version": 3
   },
   "file_extension": ".py",
   "mimetype": "text/x-python",
   "name": "python",
   "nbconvert_exporter": "python",
   "pygments_lexer": "ipython3",
   "version": "3.9.15"
  }
 },
 "nbformat": 4,
 "nbformat_minor": 5
}
