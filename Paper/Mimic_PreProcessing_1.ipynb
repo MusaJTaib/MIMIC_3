{
 "cells": [
  {
   "cell_type": "markdown",
   "id": "25b97f09-9d0f-41df-aa66-73382fe81f6c",
   "metadata": {
    "tags": []
   },
   "source": [
    "# MIMIC Pre-Processing Example\n",
    "An example of how to prepare MIMIC data for use in a machine learning algorithm.  Takes the raw table data and creates a single table of static (don't change with time) and dynamic (do change with time) data features for the MIMIC patient population.  The outcome label used is mortality."
   ]
  },
  {
   "cell_type": "markdown",
   "id": "937c92c7",
   "metadata": {},
   "source": [
    "## Notebook Structure Overview\n",
    "This notebook is organized into several main sections, each dedicated to a specific part of the data pre-processing workflow for the MIMIC dataset. The sections are as follows:\n",
    "1. **Data Loading**: Importing the necessary datasets from MIMIC.\n",
    "2. **Data Cleaning and Transformation**: Preparing the data for analysis, including cleaning and transforming data.\n",
    "3. **Feature Engineering**: Creating new features from the existing data to better capture the insights needed for the analysis.\n",
    "4. **Data Integration**: Combining various datasets into a unified format suitable for machine learning models.\n",
    "5. **Final Preparations**: Finalizing the dataset for use in machine learning, including splitting into training and test sets.\n",
    "Each section is marked with a heading and introductory text to explain its purpose and contents."
   ]
  },
  {
   "cell_type": "markdown",
   "id": "9a09683f",
   "metadata": {},
   "source": [
    "## Introduction\n",
    "This notebook demonstrates the pre-processing steps required to prepare MIMIC data for machine learning analysis. It focuses on assembling a cohesive dataset from the raw MIMIC tables, categorizing features into static and dynamic ones, and defining mortality as the outcome of interest."
   ]
  },
  {
   "cell_type": "code",
   "execution_count": null,
   "id": "70caf1c9-03d3-4517-b538-b8b05308af48",
   "metadata": {},
   "outputs": [],
   "source": [
    "import numpy as np\n",
    "import pandas as pd\n",
    "import dask.dataframe as dd\n",
    "from dask.diagnostics import ProgressBar\n",
    "import os\n",
    "import pickle \n",
    "from tqdm.auto import tqdm, trange\n",
    "from tqdm.notebook import tqdm\n",
    "tqdm.pandas()"
   ]
  },
  {
   "cell_type": "code",
   "execution_count": null,
   "id": "6a004264-417c-4fcb-81eb-a9427792f782",
   "metadata": {},
   "outputs": [],
   "source": [
    "dataDirStr = 'MIMIC_Codes/MIMIC_3/Csv/'   # MIMIC CSV file location.\n",
    "cacheDirStr = 'MIMIC_Codes/MIMIC_3/cache/'  # Cache directory for intermediate files."
   ]
  },
  {
   "cell_type": "markdown",
   "id": "9cc2085f-fdb7-4fc9-bb3a-b424233e2f44",
   "metadata": {},
   "source": [
    "## Timestamped Events\n",
    "---\n",
    "Start by gathering all of our events of interest that have a time stamp."
   ]
  },
  {
   "cell_type": "markdown",
   "id": "0a8d6333-a5ab-4dbf-b613-5251eaa51483",
   "metadata": {},
   "source": [
    "### Service Type"
   ]
  },
  {
   "cell_type": "code",
   "execution_count": null,
   "id": "449a0064-9952-4d59-81bd-c36596c8a302",
   "metadata": {},
   "outputs": [],
   "source": [
    "srvTbl = pd.read_csv(dataDirStr + 'SERVICES.csv')\n",
    "srvTbl.columns = srvTbl.columns.str.lower()"
   ]
  },
  {
   "cell_type": "code",
   "execution_count": null,
   "id": "f62e5b1f-e3f0-411b-98f5-8de0620fef54",
   "metadata": {},
   "outputs": [],
   "source": [
    "dateCols = [ 'transfertime' ]\n",
    "convert_date_type(srvTbl,dateCols)"
   ]
  },
  {
   "cell_type": "code",
   "execution_count": null,
   "id": "2e0669c0-c4e2-4c25-a57e-569e5beb0d9f",
   "metadata": {},
   "outputs": [],
   "source": [
    "columnMap = {\n",
    "    'subject_id': 'SubjectId', \n",
    "    'transfertime': 'Date',\n",
    "    'curr_service': 'ServiceType'\n",
    "}"
   ]
  },
  {
   "cell_type": "code",
   "execution_count": null,
   "id": "a88c49da-aa45-4dd9-9a7b-6aa549a652e5",
   "metadata": {},
   "outputs": [],
   "source": [
    "def select_mimic_columns(tbl,mapper):\n",
    "    d = {}\n",
    "    for k in mapper.keys():\n",
    "        d[mapper[k]] = tbl[k]\n",
    "    return pd.DataFrame(d)      "
   ]
  },
  {
   "cell_type": "code",
   "execution_count": null,
   "id": "311f1d10-49df-427d-ac18-e7f3f61d71dd",
   "metadata": {},
   "outputs": [],
   "source": [
    "events = select_mimic_columns(srvTbl,columnMap)"
   ]
  },
  {
   "cell_type": "markdown",
   "id": "c5832848-bc44-4964-bbcf-a3e58e1a6c43",
   "metadata": {},
   "source": [
    "### Admission Type"
   ]
  },
  {
   "cell_type": "code",
   "execution_count": null,
   "id": "b87e8609-9b8f-4630-9150-343d8f2cda5d",
   "metadata": {},
   "outputs": [],
   "source": [
    "admitTbl = pd.read_csv(dataDirStr + 'ADMISSIONS.csv')\n",
    "admitTbl.columns = admitTbl.columns.str.lower()"
   ]
  },
  {
   "cell_type": "code",
   "execution_count": null,
   "id": "bd46c068",
   "metadata": {},
   "outputs": [],
   "source": [
    "admitTbl = admitTbl.sort_values(by=['subject_id', 'admittime'])  #Keeping only first admissions\n",
    "admitTbl = admitTbl.drop_duplicates(subset='subject_id', keep='first')"
   ]
  },
  {
   "cell_type": "code",
   "execution_count": null,
   "id": "a50f24ae",
   "metadata": {},
   "outputs": [],
   "source": [
    "unique_subject_ids = admitTbl['subject_id'].nunique()"
   ]
  },
  {
   "cell_type": "code",
   "execution_count": null,
   "id": "a0019673-9731-4936-88da-60c5cff8a677",
   "metadata": {},
   "outputs": [],
   "source": [
    "columnMap = {\n",
    "    'subject_id': 'SubjectId', \n",
    "    'admittime': 'Date',\n",
    "    'admission_type': 'AdmitType'\n",
    "}"
   ]
  },
  {
   "cell_type": "code",
   "execution_count": null,
   "id": "451dfb2e-4833-4258-b849-36a05f86e659",
   "metadata": {},
   "outputs": [],
   "source": [
    "eventsNew = select_mimic_columns(admitTbl,columnMap)"
   ]
  },
  {
   "cell_type": "code",
   "execution_count": null,
   "id": "8e790ddb-b6f4-4e69-83cd-a8ca5bae8cba",
   "metadata": {},
   "outputs": [],
   "source": [
    "events = pd.concat([ events, eventsNew ], ignore_index=True, sort=False)"
   ]
  },
  {
   "cell_type": "code",
   "execution_count": null,
   "id": "3ca3561b-1aa8-4323-98c4-06e40fddb0c9",
   "metadata": {},
   "outputs": [],
   "source": [
    "events"
   ]
  },
  {
   "cell_type": "markdown",
   "id": "f0f87302-b551-4cc8-9a23-fa00a6f14df8",
   "metadata": {},
   "source": [
    "### Chart Events"
   ]
  },
  {
   "cell_type": "markdown",
   "id": "774d2e86-e40c-45d5-87c8-5854f3e3a37b",
   "metadata": {},
   "source": [
    "`CHARTEVENTS` is a massive table so only extract the events we're interested in.  Use the dask library to implement parallelized filtering of the table as it's read in from its csv file."
   ]
  },
  {
   "cell_type": "code",
   "execution_count": null,
   "id": "d9826e05-e30a-4694-83c9-8e32797479a2",
   "metadata": {},
   "outputs": [],
   "source": [
    "chartEvents = {\n",
    "    'GscVerbal': [ 723, 223900 ],\n",
    "    'GscMotor': [ 454, 223901 ],\n",
    "    'GscEyes': [ 184, 220739 ],\n",
    "    'SystolicBloodPressure': [ 51, 442, 455, 6701, 220050, 220179 ],\n",
    "    'HeartRate': [ 211, 220045 ],\n",
    "    'Temperature': [ 676, 678, 223762, 223761 ],\n",
    "    'BloodO2': [ 190, 3420, 3422, 223835 ]\n",
    "}\n",
    "    "
   ]
  },
  {
   "cell_type": "code",
   "execution_count": null,
   "id": "79a1c277-a6ff-4607-b6e3-788e1b176eaa",
   "metadata": {},
   "outputs": [],
   "source": [
    "allEvents = [ ]\n",
    "for k in chartEvents.keys():\n",
    "    allEvents += chartEvents[k]"
   ]
  },
  {
   "cell_type": "code",
   "execution_count": null,
   "id": "8089c373-4727-42d1-8444-2f49407de8ea",
   "metadata": {},
   "outputs": [],
   "source": [
    "renameMap = {\n",
    "    'subject_id': 'SubjectId', \n",
    "    'charttime': 'Date'\n",
    "}"
   ]
  },
  {
   "cell_type": "code",
   "execution_count": null,
   "id": "5fee22dc-b98e-422c-9247-c8c00c6cb7c0",
   "metadata": {},
   "outputs": [],
   "source": [
    "def extract_multiple_events(tbl,renameMap,eventMap,eventIds,value,):\n",
    "    n = len(tbl.index)\n",
    "    d = {}\n",
    "    \n",
    "    for k in renameMap.keys():\n",
    "        d[ renameMap[k] ] = tbl[k]\n",
    "    \n",
    "    for k in eventMap.keys():\n",
    "        d[k] = pd.Series(np.nan,index=tbl.index)\n",
    "        eventIdx = tbl[eventIds].isin(eventMap[k])\n",
    "        d[k].loc[eventIdx] = tbl[value].loc[eventIdx]\n",
    "     \n",
    "    return pd.DataFrame(d)      "
   ]
  },
  {
   "cell_type": "code",
   "execution_count": null,
   "id": "7ed1b6f4-9bc5-4906-9ba9-323898a7b511",
   "metadata": {},
   "outputs": [],
   "source": [
    "eventsNew = extract_multiple_events(chartTbl,renameMap=renameMap,eventMap=chartEvents,eventIds='itemid',value='value')"
   ]
  },
  {
   "cell_type": "code",
   "execution_count": null,
   "id": "730407ec",
   "metadata": {},
   "outputs": [],
   "source": [
    "unique_valuesV = eventsNew['GscVerbal'].unique()"
   ]
  },
  {
   "cell_type": "code",
   "execution_count": null,
   "id": "0c1138c0",
   "metadata": {},
   "outputs": [],
   "source": [
    "replace_dict = {\n",
    "    '5 Oriented': 5,\n",
    "    '1.0 ET/Trach': 1,\n",
    "    '4 Confused': 4,\n",
    "    '2 Incomp sounds': 2,\n",
    "    '1 No Response': 1,\n",
    "    '3 Inapprop words': 3,\n",
    "    'No Response-ETT': 1,\n",
    "    'Oriented': 5,\n",
    "    'No Response': 0,\n",
    "    'Confused': 4,\n",
    "    'Incomprehensible sounds': 2,\n",
    "    'Inappropriate Words': 3\n",
    "}\n",
    "\n",
    "eventsNew['GscVerbal'] = eventsNew['GscVerbal'].replace(replace_dict)\n",
    "\n",
    "eventsNew['GscVerbal'] = eventsNew['GscVerbal'].fillna(0)"
   ]
  },
  {
   "cell_type": "code",
   "execution_count": null,
   "id": "0530d575",
   "metadata": {},
   "outputs": [],
   "source": [
    "unique_valuesV = eventsNew['GscVerbal'].unique()"
   ]
  },
  {
   "cell_type": "code",
   "execution_count": null,
   "id": "a19dd625",
   "metadata": {},
   "outputs": [],
   "source": [
    "replace_dict_motor = {\n",
    "    '6 Obeys Commands': 6,\n",
    "    '5 Localizes Pain': 5,\n",
    "    '1 No Response': 1,\n",
    "    '4 Flex-withdraws': 4,\n",
    "    '2 Abnorm extensn': 2,\n",
    "    '3 Abnorm flexion': 3,\n",
    "    'Localizes Pain': 5,\n",
    "    'Obeys Commands': 6,\n",
    "    'Flex-withdraws': 4,\n",
    "    'No response': 1,\n",
    "    'Abnormal Flexion': 3,\n",
    "    'Abnormal extension': 2,\n",
    "    'nan':0\n",
    "}\n",
    "\n",
    "eventsNew['GscMotor'] = eventsNew['GscMotor'].replace(replace_dict_motor)\n",
    "\n",
    "eventsNew['GscMotor'] = eventsNew['GscMotor'].fillna(0)"
   ]
  },
  {
   "cell_type": "code",
   "execution_count": null,
   "id": "ed812282",
   "metadata": {},
   "outputs": [],
   "source": [
    "eventsNew['GscMotor'] = eventsNew['GscMotor'].replace(\"NaN\", 0)"
   ]
  },
  {
   "cell_type": "code",
   "execution_count": null,
   "id": "e4c6f24f",
   "metadata": {},
   "outputs": [],
   "source": [
    "unique_valuesM = eventsNew['GscMotor'].unique()"
   ]
  },
  {
   "cell_type": "code",
   "execution_count": null,
   "id": "5c5b7c42",
   "metadata": {},
   "outputs": [],
   "source": [
    "replace_dict_eyes = {\n",
    "    '4 Spontaneously': 4,\n",
    "    '1 No Response': 1,\n",
    "    '2 To pain': 2,\n",
    "    '3 To speech': 3,\n",
    "    'To Speech': 3,\n",
    "    'Spontaneously': 4,\n",
    "    'To Pain': 2,\n",
    "    'nan':0\n",
    "}\n",
    "\n",
    "eventsNew['GscEyes'] = eventsNew['GscEyes'].replace(replace_dict_eyes)\n",
    "\n",
    "eventsNew['GscEyes'] = eventsNew['GscEyes'].replace(\"NaN\", 0)\n",
    "\n",
    "eventsNew['GscEyes'] = eventsNew['GscEyes'].fillna(0)"
   ]
  },
  {
   "cell_type": "code",
   "execution_count": null,
   "id": "a714cde6",
   "metadata": {},
   "outputs": [],
   "source": [
    "unique_valuesE = eventsNew['GscEyes'].unique()"
   ]
  },
  {
   "cell_type": "code",
   "execution_count": null,
   "id": "241c15ef-3dfc-4f19-aa5b-8a9aac824d89",
   "metadata": {},
   "outputs": [],
   "source": [
    "events = pd.concat([ events, eventsNew ], ignore_index=True, sort=False)"
   ]
  },
  {
   "cell_type": "markdown",
   "id": "d31e98da-cd0b-4f68-b125-21769e3a8e3e",
   "metadata": {},
   "source": [
    "### Output Events"
   ]
  },
  {
   "cell_type": "code",
   "execution_count": null,
   "id": "1fb35443-6cb7-42d6-931c-97243c0ba1a4",
   "metadata": {},
   "outputs": [],
   "source": [
    "output = pd.read_csv(dataDirStr + 'OUTPUTEVENTS.csv')\n",
    "output.columns = output.columns.str.lower()"
   ]
  },
  {
   "cell_type": "code",
   "execution_count": null,
   "id": "66a08706-0f8e-43ba-bd1d-cab9fee08856",
   "metadata": {},
   "outputs": [],
   "source": [
    "dateCols = [ 'charttime' ]\n",
    "convert_date_type(output,dateCols)"
   ]
  },
  {
   "cell_type": "code",
   "execution_count": null,
   "id": "1844da32-7af5-4fda-87f6-b60b8edf8b7d",
   "metadata": {},
   "outputs": [],
   "source": [
    "outputEvents = {\n",
    "    'Urine': [ 40055, 43175, 40069, 40715, 40473, 40085, 40057, 40056, 40405, 40428, 40086, 40096, \n",
    "             40651, 226559, 226560, 226561, 226584, 226563, 226564, 226565, 226567, 226557, 226558, \n",
    "             227488]\n",
    "}"
   ]
  },
  {
   "cell_type": "code",
   "execution_count": null,
   "id": "1d4a34c6-ed2c-4246-b679-304b79122d6d",
   "metadata": {},
   "outputs": [],
   "source": [
    "renameMap = {\n",
    "    'subject_id': 'SubjectId', \n",
    "    'charttime': 'Date'\n",
    "}"
   ]
  },
  {
   "cell_type": "code",
   "execution_count": null,
   "id": "8cabc0b6-a84c-4faa-a2b1-5a060720f309",
   "metadata": {},
   "outputs": [],
   "source": [
    "output = output.loc[output.itemid.isin(outputEvents['Urine'])]"
   ]
  },
  {
   "cell_type": "code",
   "execution_count": null,
   "id": "2a65cecf-cc47-436b-9c7b-f1cc342bb095",
   "metadata": {},
   "outputs": [],
   "source": [
    "eventsNew = extract_multiple_events(output,renameMap=renameMap,eventIds='itemid',value='value',eventMap=outputEvents)"
   ]
  },
  {
   "cell_type": "code",
   "execution_count": null,
   "id": "93e8af2b-6c34-438d-b6d0-376bd2dc0850",
   "metadata": {},
   "outputs": [],
   "source": [
    "events = pd.concat([ events, eventsNew ], ignore_index=True, sort=False)"
   ]
  },
  {
   "cell_type": "markdown",
   "id": "1424eeb7-264d-46f9-9374-7e2af74788bb",
   "metadata": {},
   "source": [
    "### Adjust Data Column Types\n",
    "Cast numerical columns to float and convert categorical string columns to categorical floating point values."
   ]
  },
  {
   "cell_type": "code",
   "execution_count": null,
   "id": "a14996fb-b861-4afe-8df6-7637d4abe216",
   "metadata": {},
   "outputs": [],
   "source": [
    "catColumns = [ 'ServiceType', 'AdmitType', 'GscVerbal', 'GscMotor', 'GscEyes' ]\n",
    "numColumns = [ 'SystolicBloodPressure', 'HeartRate', 'Temperature', 'BloodO2', 'Urine' ]"
   ]
  },
  {
   "cell_type": "code",
   "execution_count": null,
   "id": "7d1c6d26-c207-4669-807d-4aefcb86ea65",
   "metadata": {},
   "outputs": [],
   "source": [
    "catMap = {}\n",
    "for c in tqdm(catColumns):\n",
    "    vals = events[c].loc[~events[c].isna()].unique()\n",
    "    nums = list(range(len(vals)))\n",
    "    catNums = dict(zip(vals,nums))\n",
    "    \n",
    "    catMap[c] = catNums\n",
    "    \n",
    "    notNa = ~events[c].isna()\n",
    "    events.loc[notNa,c] = events[c].loc[notNa].map(catNums)\n",
    "    events[c] = events[c].astype(float)"
   ]
  },
  {
   "cell_type": "code",
   "execution_count": null,
   "id": "a289a2cf-1582-4e6e-ac87-cc0ba952ea17",
   "metadata": {},
   "outputs": [],
   "source": [
    "for c in tqdm(numColumns):\n",
    "    events.loc[events[c] == '<NA>',c] = np.nan\n",
    "    events[c] = events[c].astype(float)"
   ]
  },
  {
   "cell_type": "code",
   "execution_count": null,
   "id": "de74cc99-92a1-4cb2-bfc6-791d5758c484",
   "metadata": {},
   "outputs": [],
   "source": [
    "fp = open(cacheDirStr + 'CategoricalVariableMapping.pkl', 'wb')\n",
    "pickle.dump(catMap, fp)\n",
    "fp.close()"
   ]
  },
  {
   "cell_type": "markdown",
   "id": "658050e0-e6e1-4be3-8c32-3a8c309b299a",
   "metadata": {},
   "source": [
    "### Normalize Time\n",
    "Express time as the number of seconds relative to the first event in the data (usually an admission event)."
   ]
  },
  {
   "cell_type": "code",
   "execution_count": null,
   "id": "e8a28725-4b98-4546-95a3-d209da47d205",
   "metadata": {},
   "outputs": [],
   "source": [
    "def calc_elapsed_time(tbl):\n",
    "    tbl = tbl.sort_values(by='Date')\n",
    "    dataCols = tbl.columns[2:]\n",
    "    \n",
    "    timeSec = tbl.Date - tbl.Date.min()\n",
    "    timeSec.rename('Time',inplace=True)\n",
    "    \n",
    "    return pd.concat([ timeSec, tbl[dataCols] ],axis=1)"
   ]
  },
  {
   "cell_type": "code",
   "execution_count": null,
   "id": "51d448cb-1616-4721-8a9c-c4ec9287afe4",
   "metadata": {},
   "outputs": [],
   "source": [
    "events = events.groupby('SubjectId').progress_apply(calc_elapsed_time)"
   ]
  },
  {
   "cell_type": "markdown",
   "id": "f08c9940-c6e2-4055-bb29-f31ef96bd7d2",
   "metadata": {},
   "source": [
    "## Static Features\n",
    "---\n",
    "The following features are static for the duration of the data time span."
   ]
  },
  {
   "cell_type": "markdown",
   "id": "d9f63888-9ee8-4864-9c33-84a70f89a319",
   "metadata": {},
   "source": [
    "### Age\n",
    "Due to the random offsets applied to each patient's timeline, age is calculated relative to date of first admission."
   ]
  },
  {
   "cell_type": "code",
   "execution_count": null,
   "id": "e0db0df1-f0d1-4f44-a65c-caf27b22e781",
   "metadata": {},
   "outputs": [],
   "source": [
    "patientTbl = pd.read_csv(dataDirStr + 'PATIENTS.csv')\n",
    "patientTbl.columns = patientTbl.columns.str.lower()"
   ]
  },
  {
   "cell_type": "code",
   "execution_count": null,
   "id": "6377afbb-9206-42f6-9397-91d82e12f032",
   "metadata": {},
   "outputs": [],
   "source": [
    "dateCols = [ 'dob', 'dod', 'dod_hosp', 'dod_ssn' ]\n",
    "convert_date_type(patientTbl,dateCols)"
   ]
  },
  {
   "cell_type": "code",
   "execution_count": null,
   "id": "4e8ddd84-c175-4fd2-bcd5-5c31f3645ca2",
   "metadata": {},
   "outputs": [],
   "source": [
    "def find_first_admission(tbl):\n",
    "    return tbl.sort_values(by='admittime').iloc[0][[ 'hadm_id', 'admittime' ]]"
   ]
  },
  {
   "cell_type": "code",
   "execution_count": null,
   "id": "c3777c09-5534-4891-8dfd-1df1c554a2fc",
   "metadata": {},
   "outputs": [],
   "source": [
    "firstAdmit = admitTbl.groupby('subject_id').progress_apply(find_first_admission)"
   ]
  },
  {
   "cell_type": "code",
   "execution_count": null,
   "id": "dc14725f-aa1c-4541-8d62-c7ca3e1723e9",
   "metadata": {},
   "outputs": [],
   "source": [
    "patientIds = patientTbl.subject_id\n",
    "patientAdmitTime = firstAdmit.loc[patientTbl.subject_id].admittime\n",
    "patientDob = pd.Series(patientTbl.dob.values,index=patientTbl.subject_id)\n",
    "age = pd.DataFrame({ 'Age': patientAdmitTime.dt.year - patientDob.dt.year})"
   ]
  },
  {
   "cell_type": "code",
   "execution_count": null,
   "id": "ace3f4e8-f8d8-4b3e-9090-5040d1000aab",
   "metadata": {},
   "outputs": [],
   "source": [
    "staticFeatures = age"
   ]
  },
  {
   "cell_type": "markdown",
   "id": "2b46bb52-33f8-4af3-b492-3f99ee2c3280",
   "metadata": {
    "tags": []
   },
   "source": [
    "### Disease Diagnoses"
   ]
  },
  {
   "cell_type": "code",
   "execution_count": null,
   "id": "17d8ec38-739c-4b6e-9b62-e6ab922d59e2",
   "metadata": {},
   "outputs": [],
   "source": [
    "diagnoses = pd.read_csv(dataDirStr + 'DIAGNOSES_ICD.csv')\n",
    "diagnoses.columns = diagnoses.columns.str.lower()"
   ]
  },
  {
   "cell_type": "code",
   "execution_count": null,
   "id": "172e1591-054b-4ec5-b78b-c0ca3a23ef4c",
   "metadata": {},
   "outputs": [],
   "source": [
    "firstAdmitDiag = diagnoses.hadm_id.isin(firstAdmit.hadm_id)\n",
    "diagnoses = diagnoses.loc[firstAdmitDiag]"
   ]
  },
  {
   "cell_type": "code",
   "execution_count": null,
   "id": "fb8f3470-4f0c-46cf-8f3f-a32f37ccaf47",
   "metadata": {},
   "outputs": [],
   "source": [
    "icdDict = pd.read_csv(dataDirStr + 'D_ICD_DIAGNOSES.csv')\n",
    "icdDict.columns = icdDict.columns.str.lower()\n",
    "icdDict = icdDict.sort_values(by = 'icd9_code', ascending=True)"
   ]
  },
  {
   "cell_type": "code",
   "execution_count": null,
   "id": "af05181f-fdca-4d22-bcf9-3a026d2096d9",
   "metadata": {},
   "outputs": [],
   "source": [
    "diseaseCodes = {\n",
    "    'Aids': [ '042' ]\n",
    "}  "
   ]
  },
  {
   "cell_type": "markdown",
   "id": "4b62a032-f709-41d0-8e4b-27b7867e5eda",
   "metadata": {},
   "source": [
    "**Musa:** I use a different approach to select the ICD codes corresponding to malignancy.  These are based on the [ICD9 wikipedia page](https://en.wikipedia.org/wiki/List_of_ICD-9_codes) and should encompass both malignant cancers and malignant blood disorders."
   ]
  },
  {
   "cell_type": "code",
   "execution_count": null,
   "id": "c5e5b17a-92e5-4d45-addb-e310c27f9b7b",
   "metadata": {},
   "outputs": [],
   "source": [
    "malignantPrefix = [ '14', '15', '16', '17', '18', '19', '20' ]"
   ]
  },
  {
   "cell_type": "code",
   "execution_count": null,
   "id": "554b4654-30c6-4f03-8b57-03a7c8c3c70f",
   "metadata": {},
   "outputs": [],
   "source": [
    "cancerIcd = []\n",
    "for pfx in malignantPrefix:\n",
    "    idx = icdDict.icd9_code.str.contains(f'^{pfx}')\n",
    "    cancerIcd += list(icdDict.loc[idx].icd9_code)\n",
    "diseaseCodes['Cancer'] = cancerIcd    "
   ]
  },
  {
   "cell_type": "code",
   "execution_count": null,
   "id": "0b16e9f9-3614-4ed5-bf20-2ae5a09d046b",
   "metadata": {},
   "outputs": [],
   "source": [
    "def check_diagnoses(tbl,diagCode,diseaseCodes):\n",
    "    diag = {}\n",
    "    for d in diseaseCodes.keys():\n",
    "        diag[d] = tbl[diagCode].isin(diseaseCodes[d]).sum() > 0\n",
    "    return pd.Series(diag)"
   ]
  },
  {
   "cell_type": "code",
   "execution_count": null,
   "id": "2af128e9-6092-4d45-a4a4-84f7647b38fd",
   "metadata": {},
   "outputs": [],
   "source": [
    "diagScan = diagnoses.groupby('subject_id').progress_apply(\n",
    "    check_diagnoses,diagCode='icd9_code',diseaseCodes=diseaseCodes\n",
    ")"
   ]
  },
  {
   "cell_type": "code",
   "execution_count": null,
   "id": "d78e3177-a69e-4240-8f12-caa1005df9ae",
   "metadata": {},
   "outputs": [],
   "source": [
    "staticFeatures = pd.concat([ staticFeatures, diagScan ], axis=1)"
   ]
  },
  {
   "cell_type": "markdown",
   "id": "54f0c67a-b914-4ba4-880c-a2430d1c38fc",
   "metadata": {},
   "source": [
    "## Merge Static and Timestamped Features"
   ]
  },
  {
   "cell_type": "code",
   "execution_count": null,
   "id": "a9c39f04-267e-4cf8-973d-79cea330b04c",
   "metadata": {},
   "outputs": [],
   "source": [
    "idx = events.index.get_level_values(0)"
   ]
  },
  {
   "cell_type": "code",
   "execution_count": null,
   "id": "34a2738b-0a1d-4e5f-ad52-72ebbeb28d2b",
   "metadata": {},
   "outputs": [],
   "source": [
    "staticRepeatedTbl = staticFeatures.loc[idx]\n",
    "staticRepeatedTbl.index = events.index"
   ]
  },
  {
   "cell_type": "code",
   "execution_count": null,
   "id": "3d350d81-5da5-46cd-b89b-b7dc64ce1310",
   "metadata": {},
   "outputs": [],
   "source": [
    "events = pd.concat([ events, staticRepeatedTbl ],axis=1)"
   ]
  },
  {
   "cell_type": "code",
   "execution_count": null,
   "id": "c37cb2c1-5759-4efe-90b5-b979fc0135ae",
   "metadata": {},
   "outputs": [],
   "source": [
    "events"
   ]
  },
  {
   "cell_type": "markdown",
   "id": "fa23397d-fee1-438b-b8a4-ff061a34bc6f",
   "metadata": {},
   "source": [
    "## Label Data"
   ]
  },
  {
   "cell_type": "code",
   "execution_count": null,
   "id": "e6ab1ca7-4753-496d-8309-3aa9c79b3ca0",
   "metadata": {},
   "outputs": [],
   "source": [
    "deathTbl = pd.DataFrame({ 'Death': patientTbl.expire_flag.values != 0 },index=patientTbl.subject_id)"
   ]
  },
  {
   "cell_type": "code",
   "execution_count": null,
   "id": "d42b828e-b441-4845-b364-0332e59db9a5",
   "metadata": {},
   "outputs": [],
   "source": [
    "idx = events.index.get_level_values(0)\n",
    "events['Death'] = deathTbl.loc[idx].Death.values"
   ]
  },
  {
   "cell_type": "code",
   "execution_count": null,
   "id": "0e1c5370-ecef-47ab-b46a-e1da39f01fa7",
   "metadata": {},
   "outputs": [],
   "source": [
    "events"
   ]
  },
  {
   "cell_type": "code",
   "execution_count": null,
   "id": "c45e8d44",
   "metadata": {},
   "outputs": [],
   "source": [
    "events"
   ]
  },
  {
   "cell_type": "code",
   "execution_count": null,
   "id": "4516bb3d-312f-460a-8494-f10669f2151c",
   "metadata": {},
   "outputs": [],
   "source": [
    "events.to_parquet(cacheDirStr + 'ElapsedTimeEvents.parquet', engine='pyarrow')"
   ]
  }
 ],
 "metadata": {
  "kernelspec": {
   "display_name": "Python 3 (ipykernel)",
   "language": "python",
   "name": "python3"
  },
  "language_info": {
   "codemirror_mode": {
    "name": "ipython",
    "version": 3
   },
   "file_extension": ".py",
   "mimetype": "text/x-python",
   "name": "python",
   "nbconvert_exporter": "python",
   "pygments_lexer": "ipython3",
   "version": "3.9.15"
  }
 },
 "nbformat": 4,
 "nbformat_minor": 5
}
