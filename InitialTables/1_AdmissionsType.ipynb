{
 "cells": [
  {
   "attachments": {},
   "cell_type": "markdown",
   "metadata": {},
   "source": [
    "Sepearting check Chartevent Feature into Columns"
   ]
  },
  {
   "cell_type": "code",
   "execution_count": 9,
   "metadata": {},
   "outputs": [],
   "source": [
    "import pandas as pd\n",
    "import numpy as np"
   ]
  },
  {
   "cell_type": "code",
   "execution_count": 10,
   "metadata": {},
   "outputs": [],
   "source": [
    "HADM = np.load('MIMIC_3/admission_first_ids.npy',allow_pickle=True)\n",
    "HADM = HADM.item().get('admission_ids')"
   ]
  },
  {
   "cell_type": "code",
   "execution_count": 11,
   "metadata": {},
   "outputs": [],
   "source": [
    "admission = pd.read_parquet(\"MIMIC_3/ADMISSIONS.parquet\")\n",
    "service = pd.read_parquet(\"MIMIC_3/SERVICES.parquet\")"
   ]
  },
  {
   "cell_type": "code",
   "execution_count": 12,
   "metadata": {},
   "outputs": [],
   "source": [
    "X = admission['hadm_id'].isin(HADM)\n",
    "Y = service['hadm_id'].isin(HADM)"
   ]
  },
  {
   "cell_type": "code",
   "execution_count": 13,
   "metadata": {},
   "outputs": [],
   "source": [
    "admissions_df = admission[X]\n",
    "services_df = service[Y]"
   ]
  },
  {
   "cell_type": "code",
   "execution_count": 14,
   "metadata": {},
   "outputs": [],
   "source": [
    "admissions = pd.DataFrame()\n",
    "services = pd.DataFrame()\n",
    "\n",
    "admissions['subject_id'] = admissions_df['subject_id']\n",
    "services['subject_id'] = services_df['subject_id']\n",
    "\n",
    "admissions['date'] = [d.date() for d in admissions_df['admittime']]\n",
    "admissions['time'] = [d.time() for d in admissions_df['admittime']]\n",
    "\n",
    "services['date'] = [d.date() for d in services_df['transfertime']]\n",
    "services['time'] = [d.time() for d in services_df['transfertime']]\n",
    "\n",
    "admissions['service_type'] = admissions_df['admission_type']\n",
    "services['admission_type'] = services_df['curr_service']\n",
    "\n"
   ]
  },
  {
   "cell_type": "code",
   "execution_count": 16,
   "metadata": {},
   "outputs": [],
   "source": [
    "import datetime as dt\n",
    "\n",
    "admissions2 = admissions\n",
    "services2 = services\n",
    "\n",
    "admissions['date'] = pd.to_datetime(admissions.date, format='%Y-%m-%d')\n",
    "services['date'] = pd.to_datetime(services.date, format='%Y-%m-%d')\n",
    "\n",
    "from sklearn.preprocessing import LabelEncoder \n",
    "labelencoder = LabelEncoder() #initializing an object of class LabelEncoder\n",
    "admissions2['service_type'] = labelencoder.fit_transform(admissions['service_type']) #fitting and transforming the desired categorical column.\n",
    "\n",
    "labelencoder2 = LabelEncoder() #initializing an object of class LabelEncoder\n",
    "services2['admission_type']  = labelencoder.fit_transform(services['admission_type'] ) #fitting and transforming the desired categorical column."
   ]
  },
  {
   "cell_type": "code",
   "execution_count": 9,
   "metadata": {},
   "outputs": [
    {
     "data": {
      "text/html": [
       "<div>\n",
       "<style scoped>\n",
       "    .dataframe tbody tr th:only-of-type {\n",
       "        vertical-align: middle;\n",
       "    }\n",
       "\n",
       "    .dataframe tbody tr th {\n",
       "        vertical-align: top;\n",
       "    }\n",
       "\n",
       "    .dataframe thead th {\n",
       "        text-align: right;\n",
       "    }\n",
       "</style>\n",
       "<table border=\"1\" class=\"dataframe\">\n",
       "  <thead>\n",
       "    <tr style=\"text-align: right;\">\n",
       "      <th></th>\n",
       "      <th>subject_id</th>\n",
       "      <th>date</th>\n",
       "      <th>time</th>\n",
       "      <th>service_type</th>\n",
       "    </tr>\n",
       "  </thead>\n",
       "  <tbody>\n",
       "    <tr>\n",
       "      <th>0</th>\n",
       "      <td>22</td>\n",
       "      <td>2196-04-09</td>\n",
       "      <td>12:26:00</td>\n",
       "      <td>1</td>\n",
       "    </tr>\n",
       "    <tr>\n",
       "      <th>1</th>\n",
       "      <td>23</td>\n",
       "      <td>2153-09-03</td>\n",
       "      <td>07:15:00</td>\n",
       "      <td>0</td>\n",
       "    </tr>\n",
       "    <tr>\n",
       "      <th>3</th>\n",
       "      <td>24</td>\n",
       "      <td>2139-06-06</td>\n",
       "      <td>16:14:00</td>\n",
       "      <td>1</td>\n",
       "    </tr>\n",
       "    <tr>\n",
       "      <th>4</th>\n",
       "      <td>25</td>\n",
       "      <td>2160-11-02</td>\n",
       "      <td>02:06:00</td>\n",
       "      <td>1</td>\n",
       "    </tr>\n",
       "    <tr>\n",
       "      <th>5</th>\n",
       "      <td>26</td>\n",
       "      <td>2126-05-06</td>\n",
       "      <td>15:16:00</td>\n",
       "      <td>1</td>\n",
       "    </tr>\n",
       "  </tbody>\n",
       "</table>\n",
       "</div>"
      ],
      "text/plain": [
       "   subject_id       date      time  service_type\n",
       "0          22 2196-04-09  12:26:00             1\n",
       "1          23 2153-09-03  07:15:00             0\n",
       "3          24 2139-06-06  16:14:00             1\n",
       "4          25 2160-11-02  02:06:00             1\n",
       "5          26 2126-05-06  15:16:00             1"
      ]
     },
     "execution_count": 9,
     "metadata": {},
     "output_type": "execute_result"
    }
   ],
   "source": [
    "admissions.head(5)"
   ]
  },
  {
   "cell_type": "code",
   "execution_count": 10,
   "metadata": {},
   "outputs": [
    {
     "data": {
      "text/html": [
       "<div>\n",
       "<style scoped>\n",
       "    .dataframe tbody tr th:only-of-type {\n",
       "        vertical-align: middle;\n",
       "    }\n",
       "\n",
       "    .dataframe tbody tr th {\n",
       "        vertical-align: top;\n",
       "    }\n",
       "\n",
       "    .dataframe thead th {\n",
       "        text-align: right;\n",
       "    }\n",
       "</style>\n",
       "<table border=\"1\" class=\"dataframe\">\n",
       "  <thead>\n",
       "    <tr style=\"text-align: right;\">\n",
       "      <th></th>\n",
       "      <th>subject_id</th>\n",
       "      <th>date</th>\n",
       "      <th>time</th>\n",
       "      <th>admission_type</th>\n",
       "    </tr>\n",
       "  </thead>\n",
       "  <tbody>\n",
       "    <tr>\n",
       "      <th>0</th>\n",
       "      <td>471</td>\n",
       "      <td>2122-07-22</td>\n",
       "      <td>14:07:27</td>\n",
       "      <td>6</td>\n",
       "    </tr>\n",
       "    <tr>\n",
       "      <th>1</th>\n",
       "      <td>471</td>\n",
       "      <td>2122-07-26</td>\n",
       "      <td>18:31:49</td>\n",
       "      <td>18</td>\n",
       "    </tr>\n",
       "    <tr>\n",
       "      <th>2</th>\n",
       "      <td>472</td>\n",
       "      <td>2172-09-28</td>\n",
       "      <td>19:22:15</td>\n",
       "      <td>0</td>\n",
       "    </tr>\n",
       "    <tr>\n",
       "      <th>3</th>\n",
       "      <td>473</td>\n",
       "      <td>2201-01-09</td>\n",
       "      <td>20:16:45</td>\n",
       "      <td>7</td>\n",
       "    </tr>\n",
       "    <tr>\n",
       "      <th>4</th>\n",
       "      <td>474</td>\n",
       "      <td>2181-03-23</td>\n",
       "      <td>08:24:41</td>\n",
       "      <td>7</td>\n",
       "    </tr>\n",
       "  </tbody>\n",
       "</table>\n",
       "</div>"
      ],
      "text/plain": [
       "   subject_id       date      time  admission_type\n",
       "0         471 2122-07-22  14:07:27               6\n",
       "1         471 2122-07-26  18:31:49              18\n",
       "2         472 2172-09-28  19:22:15               0\n",
       "3         473 2201-01-09  20:16:45               7\n",
       "4         474 2181-03-23  08:24:41               7"
      ]
     },
     "execution_count": 10,
     "metadata": {},
     "output_type": "execute_result"
    }
   ],
   "source": [
    "services.head(5)"
   ]
  },
  {
   "cell_type": "code",
   "execution_count": 11,
   "metadata": {},
   "outputs": [],
   "source": [
    "admissions.to_csv('ProcessedFiles/admissions.csv', encoding='utf-8')\n",
    "services.to_csv('ProcessedFiles/services.csv', encoding='utf-8')"
   ]
  }
 ],
 "metadata": {
  "kernelspec": {
   "display_name": "Python 3.9.7",
   "language": "python",
   "name": "python3"
  },
  "language_info": {
   "codemirror_mode": {
    "name": "ipython",
    "version": 3
   },
   "file_extension": ".py",
   "mimetype": "text/x-python",
   "name": "python",
   "nbconvert_exporter": "python",
   "pygments_lexer": "ipython3",
   "version": "3.9.16"
  },
  "orig_nbformat": 4,
  "vscode": {
   "interpreter": {
    "hash": "9f3ba9e726005c067fbc0eaab20e31f21cd7f7e132fec231b7dd4c5a2981fed5"
   }
  }
 },
 "nbformat": 4,
 "nbformat_minor": 2
}
