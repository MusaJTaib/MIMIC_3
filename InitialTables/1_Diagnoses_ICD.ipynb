{
 "cells": [
  {
   "cell_type": "markdown",
   "metadata": {},
   "source": [
    "Sepearting check Chartevent Feature into Columns"
   ]
  },
  {
   "cell_type": "code",
   "execution_count": 1,
   "metadata": {},
   "outputs": [],
   "source": [
    "import pandas as pd\n",
    "import numpy as np"
   ]
  },
  {
   "cell_type": "code",
   "execution_count": 2,
   "metadata": {},
   "outputs": [],
   "source": [
    "#List of first admissions\n",
    "HADM = np.load('MIMIC_3/admission_first_ids.npy',allow_pickle=True)\n",
    "HADM = HADM.item().get('admission_ids')"
   ]
  },
  {
   "cell_type": "code",
   "execution_count": 3,
   "metadata": {},
   "outputs": [],
   "source": [
    "Diagonsis = pd.read_parquet(\"MIMIC_3/DIAGNOSES_ICD.parquet\")\n",
    "\n",
    "d_icd_diagnoses_df = pd.read_parquet(\"MIMIC_3/D_ICD_DIAGNOSES.parquet\")\n",
    "\n",
    "X = Diagonsis.hadm_id.isin(HADM)\n",
    "Diagonsis_df = Diagonsis[X]"
   ]
  },
  {
   "cell_type": "code",
   "execution_count": 4,
   "metadata": {},
   "outputs": [
    {
     "name": "stderr",
     "output_type": "stream",
     "text": [
      "/var/folders/rm/n2bp8v5126n_k9vmvqx96g_c0000gn/T/ipykernel_79409/4175708308.py:1: SettingWithCopyWarning: \n",
      "A value is trying to be set on a copy of a slice from a DataFrame\n",
      "\n",
      "See the caveats in the documentation: https://pandas.pydata.org/pandas-docs/stable/user_guide/indexing.html#returning-a-view-versus-a-copy\n",
      "  Diagonsis_df.sort_values(by=['icd9_code'], ascending=True,inplace=True)\n"
     ]
    },
    {
     "data": {
      "text/plain": [
       "\"\\nGCSMotor = CharEvents_df.loc[CharEvents_df['itemid'] == 454]\\nGCSEyes = CharEvents_df.loc[CharEvents_df['itemid'] == 184]\\n\""
      ]
     },
     "execution_count": 4,
     "metadata": {},
     "output_type": "execute_result"
    }
   ],
   "source": [
    "Diagonsis_df.sort_values(by=['icd9_code'], ascending=True,inplace=True)\n",
    "d_icd_diagnoses_df.sort_values(by=['icd9_code'], ascending=True,inplace=True)\n",
    "\n",
    "Diagonsis_df.reset_index(drop=True,inplace=True)\n",
    "d_icd_diagnoses_df.reset_index(drop=True,inplace=True)\n",
    "#Acquired immunodeficiency syndrome = 042\n",
    "#boolValues = Diagonsis_df['icd9_code'].isin(['42'])\n",
    "\n",
    "AIDs = pd.DataFrame()\n",
    "\n",
    "AIDs = Diagonsis_df.loc[Diagonsis_df['icd9_code'] == 42]\n",
    "'''\n",
    "GCSMotor = CharEvents_df.loc[CharEvents_df['itemid'] == 454]\n",
    "GCSEyes = CharEvents_df.loc[CharEvents_df['itemid'] == 184]\n",
    "'''"
   ]
  },
  {
   "cell_type": "code",
   "execution_count": 5,
   "metadata": {},
   "outputs": [],
   "source": [
    "#Hematologic malignancy = 20,000 to 20979\n",
    "#boolValues.nunique()\n",
    "\n",
    "Hematologic_IDs = d_icd_diagnoses_df['icd9_code'].iloc[1642:2025]\n",
    "Hematologic_IDs.reset_index(drop=True,inplace=True)\n",
    "\n",
    "Hema1 = []\n",
    "for x in Hematologic_IDs.index:\n",
    "    T1 = Diagonsis_df.loc[Diagonsis_df['icd9_code'] == Hematologic_IDs[x]]\n",
    "    T2 = T1['subject_id']\n",
    "    for y in T2.index:\n",
    "        Hema1.append(T2[y])\n",
    "\n"
   ]
  },
  {
   "cell_type": "code",
   "execution_count": 6,
   "metadata": {},
   "outputs": [],
   "source": [
    "Hematologic_Patients = list(dict.fromkeys(Hema1))"
   ]
  },
  {
   "cell_type": "code",
   "execution_count": 7,
   "metadata": {},
   "outputs": [],
   "source": [
    "#Metastatic cancer = 1960 to 19889\n",
    "\n",
    "MetastaticCancer_IDs = d_icd_diagnoses_df['icd9_code'].iloc[1611:1639]\n",
    "MetastaticCancer_IDs.reset_index(drop=True,inplace=True)\n",
    "\n",
    "Meta1 = []\n",
    "for x1 in MetastaticCancer_IDs.index:\n",
    "    T3 = Diagonsis_df.loc[Diagonsis_df['icd9_code'] == MetastaticCancer_IDs[x1]]\n",
    "    T4 = T3['subject_id']\n",
    "    for y1 in T4.index:\n",
    "        Meta1.append(T4[y1])"
   ]
  },
  {
   "cell_type": "code",
   "execution_count": 8,
   "metadata": {},
   "outputs": [],
   "source": [
    "MetaStaticCancer_Patients = list(dict.fromkeys(Meta1))"
   ]
  },
  {
   "cell_type": "code",
   "execution_count": 9,
   "metadata": {},
   "outputs": [],
   "source": [
    "MetaStaticCancer = pd.DataFrame (MetaStaticCancer_Patients, columns = ['MetaStatic'])\n",
    "Hematologic = pd.DataFrame (Hematologic_Patients, columns = ['Hematologic'])"
   ]
  },
  {
   "cell_type": "code",
   "execution_count": 10,
   "metadata": {},
   "outputs": [],
   "source": [
    "MetaStaticCancer.to_csv('ProcessedFiles/MetaStaticCancer.csv', encoding='utf-8')\n",
    "Hematologic.to_csv('ProcessedFiles/Hematologic.csv', encoding='utf-8')"
   ]
  }
 ],
 "metadata": {
  "kernelspec": {
   "display_name": "Python 3.9.13",
   "language": "python",
   "name": "python3"
  },
  "language_info": {
   "codemirror_mode": {
    "name": "ipython",
    "version": 3
   },
   "file_extension": ".py",
   "mimetype": "text/x-python",
   "name": "python",
   "nbconvert_exporter": "python",
   "pygments_lexer": "ipython3",
   "version": "3.9.13"
  },
  "orig_nbformat": 4,
  "vscode": {
   "interpreter": {
    "hash": "48feb6360a00eb0f47f9c89bd4d436ba37b01dbe1c2db3c2c6dfcc0146625bee"
   }
  }
 },
 "nbformat": 4,
 "nbformat_minor": 2
}
