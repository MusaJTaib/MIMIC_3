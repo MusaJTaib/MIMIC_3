{
 "cells": [
  {
   "cell_type": "markdown",
   "metadata": {},
   "source": [
    "Sepearting check Chartevent Feature into Columns"
   ]
  },
  {
   "cell_type": "code",
   "execution_count": 1,
   "metadata": {},
   "outputs": [],
   "source": [
    "import pandas as pd\n",
    "import numpy as np"
   ]
  },
  {
   "cell_type": "code",
   "execution_count": 2,
   "metadata": {},
   "outputs": [],
   "source": [
    "#List of first admissions\n",
    "HADM = np.load('MIMIC_3/admission_first_ids.npy',allow_pickle=True)\n",
    "HADM = HADM.item().get('admission_ids')"
   ]
  },
  {
   "cell_type": "code",
   "execution_count": 3,
   "metadata": {},
   "outputs": [],
   "source": [
    "CharEvents = pd.read_parquet(\"MIMIC_3/CHARTEVENTS.parquet\")\n",
    "X = CharEvents['hadm_id'].isin(HADM)"
   ]
  },
  {
   "cell_type": "code",
   "execution_count": 4,
   "metadata": {},
   "outputs": [],
   "source": [
    "CharEvents_1 = CharEvents[X]"
   ]
  },
  {
   "cell_type": "code",
   "execution_count": 5,
   "metadata": {},
   "outputs": [],
   "source": [
    "#ChartEvents\n",
    "CharEvents_df = pd.DataFrame()\n",
    "CharEvents_df['subject_id'] = CharEvents_1['subject_id']\n",
    "CharEvents_df['hadm_id'] = CharEvents_1['hadm_id']\n",
    "CharEvents_df['itemid'] = CharEvents_1['itemid']\n",
    "CharEvents_df['value'] = CharEvents_1['value']\n",
    "CharEvents_df['valuenum'] = CharEvents_1['valuenum']\n",
    "CharEvents_df['charttime'] = CharEvents_1['charttime']\n",
    "CharEvents_df['valueuom'] = CharEvents_1['valueuom']\n",
    "\n",
    "CharEvents_df.dropna(axis='rows',subset=['subject_id','hadm_id','itemid','value','valuenum','charttime'],inplace=True)\n"
   ]
  },
  {
   "cell_type": "code",
   "execution_count": 6,
   "metadata": {},
   "outputs": [],
   "source": [
    "# 1 CV\n",
    "# 2 MV\n",
    "\n",
    "#GCS_Verbal #Categorical\n",
    "GCSVerbal = []\n",
    "GCSVerbal_1 = CharEvents_df.loc[CharEvents_df['itemid'] == 723]\n",
    "GCSVerbal_2 = CharEvents_df.loc[CharEvents_df['itemid'] == 223900]\n",
    "C1 = [GCSVerbal_1,GCSVerbal_2]\n",
    "GCSVerbal = pd.concat(C1)\n",
    "GCSVerbal['date'] = [d.date() for d in GCSVerbal['charttime']]\n",
    "GCSVerbal['time'] = [d.time() for d in GCSVerbal['charttime']]\n",
    "GCSVerbal.drop('charttime', axis=1, inplace=True)\n",
    "GCSVerbal.reset_index(drop=True,inplace=True)"
   ]
  },
  {
   "cell_type": "code",
   "execution_count": 7,
   "metadata": {},
   "outputs": [
    {
     "data": {
      "text/plain": [
       "5"
      ]
     },
     "execution_count": 7,
     "metadata": {},
     "output_type": "execute_result"
    }
   ],
   "source": [
    "GCSVerbal.head(10)\n",
    "GCSVerbal.valuenum.nunique() #Same units no actions needed"
   ]
  },
  {
   "cell_type": "code",
   "execution_count": 8,
   "metadata": {},
   "outputs": [
    {
     "data": {
      "text/plain": [
       "5"
      ]
     },
     "execution_count": 8,
     "metadata": {},
     "output_type": "execute_result"
    }
   ],
   "source": [
    "from sklearn.preprocessing import LabelEncoder \n",
    "labelencoder = LabelEncoder() #initializing an object of class LabelEncoder\n",
    "GCSVerbal['valuenum'] = labelencoder.fit_transform(GCSVerbal['valuenum']) #fitting and transforming the desired categorical column.\n",
    "GCSVerbal.valuenum.nunique()"
   ]
  },
  {
   "cell_type": "code",
   "execution_count": 9,
   "metadata": {},
   "outputs": [],
   "source": [
    "GCSVerbal.to_csv('ProcessedFiles/GCSVerbal.csv', encoding='utf-8')"
   ]
  },
  {
   "cell_type": "code",
   "execution_count": 10,
   "metadata": {},
   "outputs": [],
   "source": [
    "#GCS_Motor\n",
    "GCSMotor = [] #Categorical\n",
    "GCSMotor_1 = CharEvents_df.loc[CharEvents_df['itemid'] == 454]\n",
    "GCSMotor_2 = CharEvents_df.loc[CharEvents_df['itemid'] == 223901]\n",
    "C2 = [GCSMotor_1,GCSMotor_2]\n",
    "GCSMotor = pd.concat(C1)\n",
    "GCSMotor['date'] = [d.date() for d in GCSMotor['charttime']]\n",
    "GCSMotor['time'] = [d.time() for d in GCSMotor['charttime']]\n",
    "GCSMotor.drop('charttime', axis=1, inplace=True)\n",
    "GCSMotor.reset_index(drop=True,inplace=True)\n"
   ]
  },
  {
   "cell_type": "code",
   "execution_count": 11,
   "metadata": {},
   "outputs": [
    {
     "data": {
      "text/plain": [
       "5"
      ]
     },
     "execution_count": 11,
     "metadata": {},
     "output_type": "execute_result"
    }
   ],
   "source": [
    "GCSMotor.head(10)\n",
    "GCSMotor.valuenum.nunique() #Same units no actions needed"
   ]
  },
  {
   "cell_type": "code",
   "execution_count": 12,
   "metadata": {},
   "outputs": [
    {
     "data": {
      "text/plain": [
       "5"
      ]
     },
     "execution_count": 12,
     "metadata": {},
     "output_type": "execute_result"
    }
   ],
   "source": [
    "labelencoder2 = LabelEncoder() #initializing an object of class LabelEncoder\n",
    "GCSMotor['valuenum'] = labelencoder2.fit_transform(GCSMotor['valuenum']) #fitting and transforming the desired categorical column.\n",
    "GCSMotor.valuenum.nunique()"
   ]
  },
  {
   "cell_type": "code",
   "execution_count": 13,
   "metadata": {},
   "outputs": [],
   "source": [
    "GCSMotor.to_csv('ProcessedFiles/GCSMotor.csv', encoding='utf-8')"
   ]
  },
  {
   "cell_type": "code",
   "execution_count": 14,
   "metadata": {},
   "outputs": [],
   "source": [
    "#GCS_Eyes\n",
    "GCSEyes = [] #Categorical\n",
    "GCSEyes_1 = CharEvents_df.loc[CharEvents_df['itemid'] == 184]\n",
    "GCSEyes_2 = CharEvents_df.loc[CharEvents_df['itemid'] == 220739]\n",
    "C3 = [GCSEyes_1,GCSEyes_2]\n",
    "GCSEyes = pd.concat(C3)\n",
    "GCSEyes['date'] = [d.date() for d in GCSEyes['charttime']]\n",
    "GCSEyes['time'] = [d.time() for d in GCSEyes['charttime']]\n",
    "GCSEyes.drop('charttime', axis=1, inplace=True)\n",
    "GCSEyes.reset_index(drop=True,inplace=True)"
   ]
  },
  {
   "cell_type": "code",
   "execution_count": 15,
   "metadata": {},
   "outputs": [
    {
     "data": {
      "text/plain": [
       "4"
      ]
     },
     "execution_count": 15,
     "metadata": {},
     "output_type": "execute_result"
    }
   ],
   "source": [
    "GCSEyes.head(10)\n",
    "GCSEyes.valuenum.nunique()  #Same units no actions needed"
   ]
  },
  {
   "cell_type": "code",
   "execution_count": 16,
   "metadata": {},
   "outputs": [
    {
     "data": {
      "text/plain": [
       "4"
      ]
     },
     "execution_count": 16,
     "metadata": {},
     "output_type": "execute_result"
    }
   ],
   "source": [
    "from sklearn.preprocessing import LabelEncoder\n",
    "labelencoder3 = LabelEncoder() #initializing an object of class LabelEncoder\n",
    "GCSEyes['valuenum'] = labelencoder3.fit_transform(GCSEyes['valuenum']) #fitting and transforming the desired categorical column.\n",
    "GCSEyes.valuenum.nunique()"
   ]
  },
  {
   "cell_type": "code",
   "execution_count": 17,
   "metadata": {},
   "outputs": [],
   "source": [
    "GCSEyes.to_csv('ProcessedFiles/GCSEyes.csv', encoding='utf-8')"
   ]
  },
  {
   "cell_type": "code",
   "execution_count": 18,
   "metadata": {},
   "outputs": [],
   "source": [
    "#systolic_blood_pressure\n",
    "SBP = [] #Numerical\n",
    "SBP_A_1 = CharEvents_df.loc[CharEvents_df['itemid'] == 51]\n",
    "SBP_B_1 = CharEvents_df.loc[CharEvents_df['itemid'] == 442]\n",
    "SBP_C_1 = CharEvents_df.loc[CharEvents_df['itemid'] == 455]\n",
    "SBP_D_1 = CharEvents_df.loc[CharEvents_df['itemid'] == 6701]\n",
    "SBP_A_2 = CharEvents_df.loc[CharEvents_df['itemid'] == 220050]\n",
    "SBP_B_2 = CharEvents_df.loc[CharEvents_df['itemid'] == 220179]\n",
    "C4 = [SBP_A_1,SBP_B_1,SBP_C_1,SBP_D_1,SBP_A_2,SBP_B_2]\n",
    "SBP = pd.concat(C4)\n",
    "SBP['date'] = [d.date() for d in SBP['charttime']]\n",
    "SBP['time'] = [d.time() for d in SBP['charttime']]\n",
    "SBP.drop('charttime', axis=1, inplace=True)\n",
    "SBP.reset_index(drop=True,inplace=True)"
   ]
  },
  {
   "cell_type": "code",
   "execution_count": 19,
   "metadata": {},
   "outputs": [
    {
     "data": {
      "text/plain": [
       "1"
      ]
     },
     "execution_count": 19,
     "metadata": {},
     "output_type": "execute_result"
    }
   ],
   "source": [
    "SBP.head(10)\n",
    "SBP.valueuom.nunique() #Same so no action needed"
   ]
  },
  {
   "cell_type": "code",
   "execution_count": 20,
   "metadata": {},
   "outputs": [],
   "source": [
    "SBP.to_csv('ProcessedFiles/SBP.csv', encoding='utf-8')"
   ]
  },
  {
   "cell_type": "code",
   "execution_count": 21,
   "metadata": {},
   "outputs": [],
   "source": [
    "#Heart Rate\n",
    "HR = [] #Numerical\n",
    "HR_1 = CharEvents_df.loc[CharEvents_df['itemid'] == 211]\n",
    "HR_2 = CharEvents_df.loc[CharEvents_df['itemid'] == 220045]\n",
    "C5 = [HR_1,HR_2]\n",
    "HR = pd.concat(C5)\n",
    "HR['date'] = [d.date() for d in HR['charttime']]\n",
    "HR['time'] = [d.time() for d in HR['charttime']]\n",
    "HR.drop('charttime', axis=1, inplace=True)\n",
    "HR.reset_index(drop=True,inplace=True)"
   ]
  },
  {
   "cell_type": "code",
   "execution_count": 22,
   "metadata": {},
   "outputs": [
    {
     "data": {
      "text/plain": [
       "2"
      ]
     },
     "execution_count": 22,
     "metadata": {},
     "output_type": "execute_result"
    }
   ],
   "source": [
    "HR.valueuom.nunique() #Same ignore difference"
   ]
  },
  {
   "cell_type": "code",
   "execution_count": 23,
   "metadata": {},
   "outputs": [
    {
     "data": {
      "text/html": [
       "<div>\n",
       "<style scoped>\n",
       "    .dataframe tbody tr th:only-of-type {\n",
       "        vertical-align: middle;\n",
       "    }\n",
       "\n",
       "    .dataframe tbody tr th {\n",
       "        vertical-align: top;\n",
       "    }\n",
       "\n",
       "    .dataframe thead th {\n",
       "        text-align: right;\n",
       "    }\n",
       "</style>\n",
       "<table border=\"1\" class=\"dataframe\">\n",
       "  <thead>\n",
       "    <tr style=\"text-align: right;\">\n",
       "      <th></th>\n",
       "      <th>counts</th>\n",
       "      <th>%</th>\n",
       "    </tr>\n",
       "  </thead>\n",
       "  <tbody>\n",
       "    <tr>\n",
       "      <th>bpm</th>\n",
       "      <td>3548190</td>\n",
       "      <td>56.45</td>\n",
       "    </tr>\n",
       "    <tr>\n",
       "      <th>BPM</th>\n",
       "      <td>2737741</td>\n",
       "      <td>43.55</td>\n",
       "    </tr>\n",
       "  </tbody>\n",
       "</table>\n",
       "</div>"
      ],
      "text/plain": [
       "      counts      %\n",
       "bpm  3548190  56.45\n",
       "BPM  2737741  43.55"
      ]
     },
     "execution_count": 23,
     "metadata": {},
     "output_type": "execute_result"
    }
   ],
   "source": [
    "c = HR.valueuom.value_counts()\n",
    "p = HR.valueuom.value_counts(normalize=True).mul(100).round(2)\n",
    "pd.concat([c,p], axis=1, keys=['counts', '%'])"
   ]
  },
  {
   "cell_type": "code",
   "execution_count": 24,
   "metadata": {},
   "outputs": [],
   "source": [
    "HR.to_csv('ProcessedFiles/HR.csv', encoding='utf-8')"
   ]
  },
  {
   "cell_type": "code",
   "execution_count": 25,
   "metadata": {},
   "outputs": [],
   "source": [
    "#Body Temperature\n",
    "BT_C = [] #Numerical\n",
    "BT_F = [] #Numerical\n",
    "\n",
    "BT_C_1 = CharEvents_df.loc[CharEvents_df['itemid'] == 676]\n",
    "BT_F_1 = CharEvents_df.loc[CharEvents_df['itemid'] == 678]\n",
    "BT_C_2 = CharEvents_df.loc[CharEvents_df['itemid'] == 223762]\n",
    "BT_F_2 = CharEvents_df.loc[CharEvents_df['itemid'] == 223761]\n",
    "\n",
    "C6 = [BT_C_1,BT_C_2]\n",
    "C7 = [BT_F_1,BT_F_2]\n",
    "\n",
    "BT_C = pd.concat(C6)\n",
    "BT_C['date'] = [d.date() for d in BT_C['charttime']]\n",
    "BT_C['time'] = [d.time() for d in BT_C['charttime']]\n",
    "BT_C.drop('charttime', axis=1, inplace=True)\n",
    "\n",
    "BT_F = pd.concat(C7)\n",
    "BT_F['date'] = [d.date() for d in BT_F['charttime']]\n",
    "BT_F['time'] = [d.time() for d in BT_F['charttime']]\n",
    "BT_F.drop('charttime', axis=1, inplace=True)\n",
    "\n",
    "BT_C.reset_index(drop=True,inplace=True)\n",
    "BT_F.reset_index(drop=True,inplace=True)"
   ]
  },
  {
   "cell_type": "code",
   "execution_count": 26,
   "metadata": {},
   "outputs": [
    {
     "data": {
      "text/plain": [
       "2"
      ]
     },
     "execution_count": 26,
     "metadata": {},
     "output_type": "execute_result"
    }
   ],
   "source": [
    "BT_C.valueuom.nunique() #Same ignore difference\n",
    "BT_F.valueuom.nunique() #Same ignore difference"
   ]
  },
  {
   "cell_type": "code",
   "execution_count": 27,
   "metadata": {},
   "outputs": [
    {
     "data": {
      "text/html": [
       "<div>\n",
       "<style scoped>\n",
       "    .dataframe tbody tr th:only-of-type {\n",
       "        vertical-align: middle;\n",
       "    }\n",
       "\n",
       "    .dataframe tbody tr th {\n",
       "        vertical-align: top;\n",
       "    }\n",
       "\n",
       "    .dataframe thead th {\n",
       "        text-align: right;\n",
       "    }\n",
       "</style>\n",
       "<table border=\"1\" class=\"dataframe\">\n",
       "  <thead>\n",
       "    <tr style=\"text-align: right;\">\n",
       "      <th></th>\n",
       "      <th>counts</th>\n",
       "      <th>%</th>\n",
       "    </tr>\n",
       "  </thead>\n",
       "  <tbody>\n",
       "    <tr>\n",
       "      <th>Deg. C</th>\n",
       "      <td>324012</td>\n",
       "      <td>84.41</td>\n",
       "    </tr>\n",
       "    <tr>\n",
       "      <th>?C</th>\n",
       "      <td>59861</td>\n",
       "      <td>15.59</td>\n",
       "    </tr>\n",
       "  </tbody>\n",
       "</table>\n",
       "</div>"
      ],
      "text/plain": [
       "        counts      %\n",
       "Deg. C  324012  84.41\n",
       "?C       59861  15.59"
      ]
     },
     "execution_count": 27,
     "metadata": {},
     "output_type": "execute_result"
    }
   ],
   "source": [
    "c = BT_C.valueuom.value_counts()\n",
    "p = BT_C.valueuom.value_counts(normalize=True).mul(100).round(2)\n",
    "pd.concat([c,p], axis=1, keys=['counts', '%'])"
   ]
  },
  {
   "cell_type": "code",
   "execution_count": 28,
   "metadata": {},
   "outputs": [
    {
     "data": {
      "text/html": [
       "<div>\n",
       "<style scoped>\n",
       "    .dataframe tbody tr th:only-of-type {\n",
       "        vertical-align: middle;\n",
       "    }\n",
       "\n",
       "    .dataframe tbody tr th {\n",
       "        vertical-align: top;\n",
       "    }\n",
       "\n",
       "    .dataframe thead th {\n",
       "        text-align: right;\n",
       "    }\n",
       "</style>\n",
       "<table border=\"1\" class=\"dataframe\">\n",
       "  <thead>\n",
       "    <tr style=\"text-align: right;\">\n",
       "      <th></th>\n",
       "      <th>counts</th>\n",
       "      <th>%</th>\n",
       "    </tr>\n",
       "  </thead>\n",
       "  <tbody>\n",
       "    <tr>\n",
       "      <th>Deg. F</th>\n",
       "      <td>600053</td>\n",
       "      <td>61.39</td>\n",
       "    </tr>\n",
       "    <tr>\n",
       "      <th>?F</th>\n",
       "      <td>377436</td>\n",
       "      <td>38.61</td>\n",
       "    </tr>\n",
       "  </tbody>\n",
       "</table>\n",
       "</div>"
      ],
      "text/plain": [
       "        counts      %\n",
       "Deg. F  600053  61.39\n",
       "?F      377436  38.61"
      ]
     },
     "execution_count": 28,
     "metadata": {},
     "output_type": "execute_result"
    }
   ],
   "source": [
    "c = BT_F.valueuom.value_counts()\n",
    "p = BT_F.valueuom.value_counts(normalize=True).mul(100).round(2)\n",
    "pd.concat([c,p], axis=1, keys=['counts', '%'])"
   ]
  },
  {
   "cell_type": "code",
   "execution_count": 29,
   "metadata": {},
   "outputs": [],
   "source": [
    "BT_F.to_csv('ProcessedFiles/BT_F.csv', encoding='utf-8')\n",
    "BT_C.to_csv('ProcessedFiles/BT_C.csv', encoding='utf-8')"
   ]
  },
  {
   "cell_type": "code",
   "execution_count": 30,
   "metadata": {},
   "outputs": [],
   "source": [
    "#FIO2\n",
    "FIO2 = [] #Numerical\n",
    "FIO2_A_1 = CharEvents_df.loc[CharEvents_df['itemid'] == 190]\n",
    "FIO2_B_1 = CharEvents_df.loc[CharEvents_df['itemid'] == 3420]\n",
    "FIO2_C_1 = CharEvents_df.loc[CharEvents_df['itemid'] == 3422]\n",
    "FIO2_A_2 = CharEvents_df.loc[CharEvents_df['itemid'] == 223835]\n",
    "C8 = [FIO2_A_1,FIO2_B_1,FIO2_C_1,FIO2_A_2]\n",
    "FIO2 = pd.concat(C8)\n",
    "FIO2['date'] = [d.date() for d in FIO2['charttime']]\n",
    "FIO2['time'] = [d.time() for d in FIO2['charttime']]\n",
    "FIO2.drop('charttime', axis=1, inplace=True)\n",
    "\n",
    "FIO2.reset_index(drop=True,inplace=True)"
   ]
  },
  {
   "cell_type": "code",
   "execution_count": 31,
   "metadata": {},
   "outputs": [],
   "source": [
    "FIO2.valueuom.nunique()\n",
    "Check = FIO2.valueuom.unique()"
   ]
  },
  {
   "cell_type": "code",
   "execution_count": 32,
   "metadata": {},
   "outputs": [
    {
     "data": {
      "text/html": [
       "<div>\n",
       "<style scoped>\n",
       "    .dataframe tbody tr th:only-of-type {\n",
       "        vertical-align: middle;\n",
       "    }\n",
       "\n",
       "    .dataframe tbody tr th {\n",
       "        vertical-align: top;\n",
       "    }\n",
       "\n",
       "    .dataframe thead th {\n",
       "        text-align: right;\n",
       "    }\n",
       "</style>\n",
       "<table border=\"1\" class=\"dataframe\">\n",
       "  <thead>\n",
       "    <tr style=\"text-align: right;\">\n",
       "      <th></th>\n",
       "      <th>counts</th>\n",
       "      <th>%</th>\n",
       "    </tr>\n",
       "  </thead>\n",
       "  <tbody>\n",
       "    <tr>\n",
       "      <th>%</th>\n",
       "      <td>867591</td>\n",
       "      <td>66.01</td>\n",
       "    </tr>\n",
       "    <tr>\n",
       "      <th>torr</th>\n",
       "      <td>446830</td>\n",
       "      <td>33.99</td>\n",
       "    </tr>\n",
       "  </tbody>\n",
       "</table>\n",
       "</div>"
      ],
      "text/plain": [
       "      counts      %\n",
       "%     867591  66.01\n",
       "torr  446830  33.99"
      ]
     },
     "execution_count": 32,
     "metadata": {},
     "output_type": "execute_result"
    }
   ],
   "source": [
    "c = FIO2.valueuom.value_counts()\n",
    "p = FIO2.valueuom.value_counts(normalize=True).mul(100).round(2)\n",
    "pd.concat([c,p], axis=1, keys=['counts', '%'])\n",
    "\n",
    "#Fixed"
   ]
  },
  {
   "cell_type": "code",
   "execution_count": 33,
   "metadata": {},
   "outputs": [],
   "source": [
    "df = pd.DataFrame()\n",
    "FIO2['value'] = FIO2['value'].astype(float)\n",
    "df1 = FIO2.valueuom == Check[0]\n",
    "df2 = FIO2.valueuom == Check[1]\n"
   ]
  },
  {
   "cell_type": "code",
   "execution_count": 34,
   "metadata": {},
   "outputs": [],
   "source": [
    "FIO2A = FIO2[df1]\n",
    "FIO2B = FIO2[~df1]"
   ]
  },
  {
   "cell_type": "code",
   "execution_count": 35,
   "metadata": {},
   "outputs": [
    {
     "name": "stderr",
     "output_type": "stream",
     "text": [
      "/var/folders/rm/n2bp8v5126n_k9vmvqx96g_c0000gn/T/ipykernel_3239/454670963.py:1: SettingWithCopyWarning: \n",
      "A value is trying to be set on a copy of a slice from a DataFrame.\n",
      "Try using .loc[row_indexer,col_indexer] = value instead\n",
      "\n",
      "See the caveats in the documentation: https://pandas.pydata.org/pandas-docs/stable/user_guide/indexing.html#returning-a-view-versus-a-copy\n",
      "  FIO2B['value'] = FIO2B['value'].div(100)\n"
     ]
    }
   ],
   "source": [
    "FIO2B['value'] = FIO2B['value'].div(100)\n",
    "FIO2s = [FIO2A,FIO2B]\n",
    "FIO2 = pd.concat(FIO2s)"
   ]
  },
  {
   "cell_type": "code",
   "execution_count": 36,
   "metadata": {},
   "outputs": [],
   "source": [
    "FIO2.to_csv('ProcessedFiles/FIO2.csv', encoding='utf-8')"
   ]
  },
  {
   "cell_type": "code",
   "execution_count": 37,
   "metadata": {},
   "outputs": [],
   "source": [
    "Chart_Num = np.load('res/filtered_chart_num.npy',allow_pickle=True)\n",
    "Chart_Cate = np.load('res/filtered_chart_cate.npy',allow_pickle=True)\n",
    "Chart_Ratio = np.load('res/filtered_chart_ratio.npy',allow_pickle=True)"
   ]
  },
  {
   "cell_type": "code",
   "execution_count": 38,
   "metadata": {},
   "outputs": [],
   "source": [
    "Num_IDs = Chart_Num.item().get('id')\n",
    "Num_Units = Chart_Num.item().get('unit')\n",
    "\n",
    "Cate_IDs = Chart_Cate.item().get('id')\n",
    "Cate_Units = Chart_Cate.item().get('unit')\n",
    "\n",
    "Ratio_IDs = Chart_Ratio.item().get('id')\n",
    "Ratio_Units = Chart_Ratio.item().get('unit')"
   ]
  }
 ],
 "metadata": {
  "kernelspec": {
   "display_name": "Python 3.9.13",
   "language": "python",
   "name": "python3"
  },
  "language_info": {
   "codemirror_mode": {
    "name": "ipython",
    "version": 3
   },
   "file_extension": ".py",
   "mimetype": "text/x-python",
   "name": "python",
   "nbconvert_exporter": "python",
   "pygments_lexer": "ipython3",
   "version": "3.9.13"
  },
  "orig_nbformat": 4,
  "vscode": {
   "interpreter": {
    "hash": "48feb6360a00eb0f47f9c89bd4d436ba37b01dbe1c2db3c2c6dfcc0146625bee"
   }
  }
 },
 "nbformat": 4,
 "nbformat_minor": 2
}
