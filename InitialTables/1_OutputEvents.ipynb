{
 "cells": [
  {
   "cell_type": "markdown",
   "metadata": {},
   "source": [
    "Sepearting check Chartevent Feature into Columns"
   ]
  },
  {
   "cell_type": "code",
   "execution_count": 43,
   "metadata": {},
   "outputs": [],
   "source": [
    "import pandas as pd\n",
    "import numpy as np"
   ]
  },
  {
   "cell_type": "code",
   "execution_count": 44,
   "metadata": {},
   "outputs": [],
   "source": [
    "#List of first admissions\n",
    "HADM = np.load('MIMIC_3/admission_first_ids.npy',allow_pickle=True)\n",
    "HADM = HADM.item().get('admission_ids')"
   ]
  },
  {
   "cell_type": "code",
   "execution_count": 45,
   "metadata": {},
   "outputs": [],
   "source": [
    "OutputEvents = pd.read_parquet(\"MIMIC_3/OUTPUTEVENTS.parquet\")\n",
    "\n",
    "X = OutputEvents.hadm_id.isin(HADM)\n",
    "OutputEvents_1 = OutputEvents[X]\n"
   ]
  },
  {
   "cell_type": "code",
   "execution_count": 46,
   "metadata": {},
   "outputs": [],
   "source": [
    "#ChartEvents\n",
    "OutputEvents_df = pd.DataFrame()\n",
    "\n",
    "OutputEvents_df['subject_id'] = OutputEvents_1['subject_id']\n",
    "OutputEvents_df['hadm_id'] = OutputEvents_1['hadm_id']\n",
    "OutputEvents_df['itemid'] = OutputEvents_1['itemid']\n",
    "OutputEvents_df['date'] = [d.date() for d in OutputEvents_1['charttime']]\n",
    "OutputEvents_df['time'] = [d.time() for d in OutputEvents_1['charttime']]\n",
    "OutputEvents_df['value'] = OutputEvents_1['value']\n",
    "OutputEvents_df['valueuom'] = OutputEvents_1['valueuom']\n",
    "\n",
    "OutputEvents_df.dropna(axis='rows',inplace=True)"
   ]
  },
  {
   "cell_type": "code",
   "execution_count": 47,
   "metadata": {},
   "outputs": [],
   "source": [
    "# 1 Feature at a time\n",
    "\n",
    "#Lab Events\n",
    "\n",
    "#Urinary Outputs\n",
    "Urin_A_1 = OutputEvents_df.loc[OutputEvents_df['itemid'] == 40055]\n",
    "Urin_B_1 = OutputEvents_df.loc[OutputEvents_df['itemid'] == 43175]\n",
    "Urin_C_1 = OutputEvents_df.loc[OutputEvents_df['itemid'] == 40069]\n",
    "Urin_D_1 = OutputEvents_df.loc[OutputEvents_df['itemid'] == 40715]\n",
    "Urin_E_1 = OutputEvents_df.loc[OutputEvents_df['itemid'] == 40473]\n",
    "Urin_F_1 = OutputEvents_df.loc[OutputEvents_df['itemid'] == 40085]\n",
    "Urin_G_1 = OutputEvents_df.loc[OutputEvents_df['itemid'] == 40057]\n",
    "Urin_H_1 = OutputEvents_df.loc[OutputEvents_df['itemid'] == 40056]\n",
    "Urin_I_1 = OutputEvents_df.loc[OutputEvents_df['itemid'] == 40405]\n",
    "Urin_J_1 = OutputEvents_df.loc[OutputEvents_df['itemid'] == 40428]\n",
    "Urin_K_1 = OutputEvents_df.loc[OutputEvents_df['itemid'] == 40086]\n",
    "Urin_L_1 = OutputEvents_df.loc[OutputEvents_df['itemid'] == 40096]\n",
    "Urin_M_1 = OutputEvents_df.loc[OutputEvents_df['itemid'] == 40651]\n",
    "\n",
    "Urin_A_2 = OutputEvents_df.loc[OutputEvents_df['itemid'] == 226559]\n",
    "Urin_B_2 = OutputEvents_df.loc[OutputEvents_df['itemid'] == 226560]\n",
    "Urin_C_2 = OutputEvents_df.loc[OutputEvents_df['itemid'] == 226561]\n",
    "Urin_D_2 = OutputEvents_df.loc[OutputEvents_df['itemid'] == 226584]\n",
    "Urin_E_2 = OutputEvents_df.loc[OutputEvents_df['itemid'] == 226563]\n",
    "Urin_F_2 = OutputEvents_df.loc[OutputEvents_df['itemid'] == 226564]\n",
    "Urin_G_2 = OutputEvents_df.loc[OutputEvents_df['itemid'] == 226565]\n",
    "Urin_H_2 = OutputEvents_df.loc[OutputEvents_df['itemid'] == 226567]\n",
    "Urin_I_2 = OutputEvents_df.loc[OutputEvents_df['itemid'] == 226557]\n",
    "Urin_J_2 = OutputEvents_df.loc[OutputEvents_df['itemid'] == 226558]\n",
    "Urin_K_2 = OutputEvents_df.loc[OutputEvents_df['itemid'] == 227488]\n",
    "Urin_L_2 = OutputEvents_df.loc[OutputEvents_df['itemid'] == 227488]"
   ]
  },
  {
   "cell_type": "code",
   "execution_count": 48,
   "metadata": {},
   "outputs": [
    {
     "data": {
      "text/plain": [
       "2"
      ]
     },
     "execution_count": 48,
     "metadata": {},
     "output_type": "execute_result"
    }
   ],
   "source": [
    "Urin = [] #Numerical\n",
    "C1 = [Urin_A_1,Urin_B_1,Urin_C_1,Urin_D_1,Urin_E_1,Urin_F_1,Urin_G_1,Urin_H_1,Urin_I_1,Urin_J_1,Urin_K_1,Urin_L_1,Urin_M_1,Urin_A_2,Urin_B_2,Urin_C_2,Urin_D_2,Urin_E_2,Urin_F_2,Urin_G_2,Urin_H_2,Urin_I_2,Urin_J_2,Urin_K_2,Urin_L_2]\n",
    "\n",
    "Urin = pd.concat(C1)\n",
    "Urin.reset_index(drop=True,inplace=True)\n",
    "\n",
    "Urin.valueuom.nunique() #Same no action needed"
   ]
  },
  {
   "cell_type": "code",
   "execution_count": 49,
   "metadata": {},
   "outputs": [
    {
     "data": {
      "text/html": [
       "<div>\n",
       "<style scoped>\n",
       "    .dataframe tbody tr th:only-of-type {\n",
       "        vertical-align: middle;\n",
       "    }\n",
       "\n",
       "    .dataframe tbody tr th {\n",
       "        vertical-align: top;\n",
       "    }\n",
       "\n",
       "    .dataframe thead th {\n",
       "        text-align: right;\n",
       "    }\n",
       "</style>\n",
       "<table border=\"1\" class=\"dataframe\">\n",
       "  <thead>\n",
       "    <tr style=\"text-align: right;\">\n",
       "      <th></th>\n",
       "      <th>counts</th>\n",
       "      <th>%</th>\n",
       "    </tr>\n",
       "  </thead>\n",
       "  <tbody>\n",
       "    <tr>\n",
       "      <th>ml</th>\n",
       "      <td>1738079</td>\n",
       "      <td>64.66</td>\n",
       "    </tr>\n",
       "    <tr>\n",
       "      <th>mL</th>\n",
       "      <td>950091</td>\n",
       "      <td>35.34</td>\n",
       "    </tr>\n",
       "  </tbody>\n",
       "</table>\n",
       "</div>"
      ],
      "text/plain": [
       "     counts      %\n",
       "ml  1738079  64.66\n",
       "mL   950091  35.34"
      ]
     },
     "execution_count": 49,
     "metadata": {},
     "output_type": "execute_result"
    }
   ],
   "source": [
    "c = Urin.valueuom.value_counts()\n",
    "p = Urin.valueuom.value_counts(normalize=True).mul(100).round(2)\n",
    "pd.concat([c,p], axis=1, keys=['counts', '%'])"
   ]
  },
  {
   "cell_type": "code",
   "execution_count": 50,
   "metadata": {},
   "outputs": [],
   "source": [
    "Urin.to_csv('ProcessedFiles/Urin.csv', encoding='utf-8')"
   ]
  }
 ],
 "metadata": {
  "kernelspec": {
   "display_name": "Python 3.9.7",
   "language": "python",
   "name": "python3"
  },
  "language_info": {
   "codemirror_mode": {
    "name": "ipython",
    "version": 3
   },
   "file_extension": ".py",
   "mimetype": "text/x-python",
   "name": "python",
   "nbconvert_exporter": "python",
   "pygments_lexer": "ipython3",
   "version": "3.9.10"
  },
  "orig_nbformat": 4,
  "vscode": {
   "interpreter": {
    "hash": "9f3ba9e726005c067fbc0eaab20e31f21cd7f7e132fec231b7dd4c5a2981fed5"
   }
  }
 },
 "nbformat": 4,
 "nbformat_minor": 2
}
