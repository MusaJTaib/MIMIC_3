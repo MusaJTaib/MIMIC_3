{
 "cells": [
  {
   "cell_type": "code",
   "execution_count": 25,
   "metadata": {},
   "outputs": [],
   "source": [
    "import pandas as pd\n",
    "from functools import reduce\n",
    "import numpy as np"
   ]
  },
  {
   "cell_type": "code",
   "execution_count": 26,
   "metadata": {},
   "outputs": [],
   "source": [
    "#Reading Files\n",
    "admissions = pd.read_csv('ProcessedFiles2/admissions.csv')\n",
    "Age = pd.read_csv('ProcessedFiles2/Age.csv')\n",
    "Bilrubin_Level = pd.read_csv('ProcessedFiles2/Bilrubin_Level.csv')\n",
    "BT = pd.read_csv('ProcessedFiles2/BT.csv')\n",
    "\n",
    "FIO2 = pd.read_csv('ProcessedFiles2/FIO2.csv')\n",
    "GCSEyes = pd.read_csv('ProcessedFiles2/GCSEyes.csv')\n",
    "GCSMotor = pd.read_csv('ProcessedFiles2/GCSMotor.csv')\n",
    "GCSVerbal = pd.read_csv('ProcessedFiles2/GCSVerbal.csv')\n",
    "\n",
    "Hematologic = pd.read_csv('ProcessedFiles2/Hematologic.csv')\n",
    "HR = pd.read_csv('ProcessedFiles2/HR.csv')\n",
    "MetaStaticCancer =  pd.read_csv('ProcessedFiles2/MetaStaticCancer.csv')\n",
    "Mortality_Prediction = pd.read_csv('ProcessedFiles2/Mortality_Prediction.csv')\n",
    "\n",
    "PAO2 = pd.read_csv('ProcessedFiles2/PAO2.csv')\n",
    "Potassium_Level = pd.read_csv('ProcessedFiles2/Potassium_Level.csv')\n",
    "SBC_Level = pd.read_csv('ProcessedFiles2/SBC_Level.csv')\n",
    "SBP = pd.read_csv('ProcessedFiles2/SBP.csv')\n",
    "\n",
    "services = pd.read_csv('ProcessedFiles2/services.csv')\n",
    "Sodium_Level = pd.read_csv('ProcessedFiles2/Sodium_Level.csv')\n",
    "SUN_Level = pd.read_csv('ProcessedFiles2/SUN_Level.csv')\n",
    "Urin = pd.read_csv('ProcessedFiles2/Urin.csv')\n",
    "\n",
    "WBCC_Level = pd.read_csv('ProcessedFiles2/WBCC_Level.csv')"
   ]
  },
  {
   "cell_type": "code",
   "execution_count": 28,
   "metadata": {},
   "outputs": [],
   "source": [
    "#Code got deleted rebuild for out FeatureSetB Raw\n",
    "\n",
    "data_frames = [admissions,Bilrubin_Level, BT, FIO2,GCSEyes,GCSMotor,GCSVerbal,HR,PAO2,Potassium_Level,SBC_Level,SBP,services,Sodium_Level,SUN_Level,Urin,WBCC_Level]\n",
    "\n",
    "df_merged = reduce(lambda  left,right: pd.merge(left,right,on=['subject_id','date','time'],how='outer'), data_frames).fillna(np.nan)"
   ]
  },
  {
   "cell_type": "code",
   "execution_count": 29,
   "metadata": {},
   "outputs": [],
   "source": [
    "data_frames = [df_merged,Age,Hematologic,MetaStaticCancer]\n",
    "\n",
    "df_merged2 = reduce(lambda  left,right: pd.merge(left,right,on=['subject_id'],how='outer'), data_frames).fillna(np.nan)"
   ]
  },
  {
   "cell_type": "code",
   "execution_count": 30,
   "metadata": {},
   "outputs": [],
   "source": [
    "df_merged2.sort_values(['subject_id','date','time'], ascending=[True, True, True],inplace=True)"
   ]
  },
  {
   "cell_type": "code",
   "execution_count": 31,
   "metadata": {},
   "outputs": [],
   "source": [
    "df_merged2.to_csv('ProcessedFiles2/FeatureSetB_Raw.csv', encoding='utf-8')"
   ]
  }
 ],
 "metadata": {
  "kernelspec": {
   "display_name": "Python 3.9.13",
   "language": "python",
   "name": "python3"
  },
  "language_info": {
   "codemirror_mode": {
    "name": "ipython",
    "version": 3
   },
   "file_extension": ".py",
   "mimetype": "text/x-python",
   "name": "python",
   "nbconvert_exporter": "python",
   "pygments_lexer": "ipython3",
   "version": "3.9.13"
  },
  "orig_nbformat": 4,
  "vscode": {
   "interpreter": {
    "hash": "48feb6360a00eb0f47f9c89bd4d436ba37b01dbe1c2db3c2c6dfcc0146625bee"
   }
  }
 },
 "nbformat": 4,
 "nbformat_minor": 2
}
