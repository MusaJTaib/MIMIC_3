{
 "cells": [
  {
   "cell_type": "code",
   "execution_count": 85,
   "metadata": {},
   "outputs": [],
   "source": [
    "#Faith May the Lord be with me\n",
    "\n",
    "import pandas as pd\n",
    "import numpy as np\n",
    "from datetime import timedelta"
   ]
  },
  {
   "cell_type": "code",
   "execution_count": 86,
   "metadata": {},
   "outputs": [],
   "source": [
    "FeatureSetB = pd.read_csv('FeatureSet/AD_48Hours.csv')"
   ]
  },
  {
   "cell_type": "code",
   "execution_count": 87,
   "metadata": {},
   "outputs": [],
   "source": [
    "def aggregationFunc(tbl):\n",
    "    Subject_id = tbl['subject_id'].mode()\n",
    "    GCSEyesAgg = tbl['GCSEyes'].mode()\n",
    "    GCSMotorAgg = tbl['GCSMotor'].mode()\n",
    "    GCSVerbalAgg = tbl['GCSVerbal'].mode()\n",
    "    Bilrubin_LevelAgg = tbl['Bilrubin_Level'].mean()\n",
    "    BTAgg = tbl['BT'].mean()\n",
    "    FIO2Agg = tbl['FIO2'].mean()\n",
    "    HRAgg = tbl['HR'].mean()\n",
    "    PAO2Agg = tbl['PAO2'].mean()\n",
    "    Potassium_LevelAgg = tbl['Potassium_Level'].mean()\n",
    "    SBC_LevelAgg = tbl['SBC_Level'].mean()                 \n",
    "    SBPAgg = tbl['SBP'].mean()                 \n",
    "    Sodium_LevelAgg = tbl['Sodium_Level'].mean()           \n",
    "    SUN_LevelAgg = tbl['SUN_Level'].mean()               \n",
    "    UrinAgg = tbl['Urin'].mean()   \n",
    "    WBCC_LevelAgg = tbl['WBCC_Level'].mean()         \n",
    "    Service_typeAgg = tbl['Service_type'].mode()               \n",
    "    AgeAgg = tbl['Age'].mode()                       \n",
    "    MetaStaticAgg = tbl['MetaStatic'].mode()                  \n",
    "    HematologicAgg = tbl['Hematologic'].mode()                   \n",
    "    Procedure_typeAgg = tbl['Procedure_type'].mode()                  \n",
    "    X = pd.DataFrame({\n",
    "    'subject_id': Subject_id,\n",
    "    'Procedure_type': Procedure_typeAgg,\n",
    "    'Bilrubin_Level': Bilrubin_LevelAgg,\n",
    "    'BT': BTAgg,  \n",
    "    'FIO2': FIO2Agg,\n",
    "    'GCSEyes' : GCSEyesAgg,\n",
    "    'GCSMotor' :  GCSMotorAgg,\n",
    "    'GCSVerbal' : GCSVerbalAgg,\n",
    "    'HR' : HRAgg,\n",
    "    'PAO2': PAO2Agg, \n",
    "    'Potassium_Level': Potassium_LevelAgg,\n",
    "    'SBC_Level': SBC_LevelAgg,\n",
    "    'SBP': SBPAgg,\n",
    "    'Service_type': Service_typeAgg,\n",
    "    'Sodium_Level': Sodium_LevelAgg,         \n",
    "    'SUN_Level': SUN_LevelAgg,              \n",
    "    'Urin': UrinAgg,                      \n",
    "    'WBCC_Level': WBCC_LevelAgg, \n",
    "    'Age': AgeAgg,\n",
    "    'Hematologic' : HematologicAgg,\n",
    "    'MetaStatic' : MetaStaticAgg,          \n",
    "    })\n",
    "    if(len(X.index) != 1):\n",
    "        for i in range(len(X.index)-1):\n",
    "            X.drop(i+1, inplace=True)\n",
    "    return X,AgeAgg"
   ]
  },
  {
   "cell_type": "code",
   "execution_count": 88,
   "metadata": {},
   "outputs": [],
   "source": [
    "#Handle the NAN Values\n",
    "\n",
    "FeatureSetAGG = pd.DataFrame()\n",
    "pd.options.mode.chained_assignment = None  # default='warn'\n",
    "\n",
    "Y = FeatureSetB\n",
    "X4,_ = aggregationFunc(Y)\n",
    "Y['GCSEyes'] = Y['GCSEyes'].fillna(X4.GCSEyes[0])\n",
    "Y['GCSMotor'] = Y['GCSMotor'].fillna(X4.GCSMotor[0])\n",
    "Y['GCSVerbal'] = Y['GCSVerbal'].fillna(X4.GCSVerbal[0])\n",
    "Y['Bilrubin_Level'] = Y['Bilrubin_Level'].fillna(X4.Bilrubin_Level[0])\n",
    "Y['BT'] = Y['BT'].fillna(X4.BT[0])\n",
    "Y['FIO2'] = Y['FIO2'].fillna(X4.FIO2[0])\n",
    "Y['HR'] = Y['HR'].fillna(X4.HR[0])\n",
    "Y['PAO2'] = Y['PAO2'].fillna(X4.PAO2[0])\n",
    "Y['Potassium_Level'] = Y['Potassium_Level'].fillna(X4.Potassium_Level[0])\n",
    "Y['SBC_Level'] = Y['SBC_Level'].fillna(X4.SBC_Level[0])      \n",
    "Y['SBP'] = Y['SBP'].fillna(X4.SBP[0])        \n",
    "Y['Sodium_Level'] = Y['Sodium_Level'].fillna(X4.Sodium_Level[0])        \n",
    "Y['SUN_Level'] = Y['SUN_Level'].fillna(X4.SUN_Level[0])       \n",
    "Y['Urin'] = Y['Urin'].fillna(X4.Urin[0])\n",
    "Y['WBCC_Level'] = Y['WBCC_Level'].fillna(X4.WBCC_Level[0])        \n",
    "Y['Service_type'] = Y['Service_type'].fillna(X4.Service_type[0])             \n",
    "Y['Age'] = Y['Age'].fillna(X4.Age[0])\n",
    "Y['MetaStatic'] = Y['MetaStatic'].fillna(X4.MetaStatic[0])              \n",
    "Y['Hematologic'] =  Y['Hematologic'].fillna(X4.Hematologic[0])               \n",
    "Y['Procedure_type'] = Y['Procedure_type'].fillna(X4.Procedure_type[0])\n",
    "FeatureSetAGG = pd.concat([FeatureSetAGG,Y])"
   ]
  },
  {
   "cell_type": "code",
   "execution_count": 89,
   "metadata": {},
   "outputs": [],
   "source": [
    "Subject_id = pd.DataFrame()\n",
    "Subject_id = FeatureSetAGG.subject_id\n",
    "Subject_id.drop_duplicates(keep = 'first', inplace = True)\n",
    "Subject_id.reset_index(drop=True,inplace=True) "
   ]
  },
  {
   "cell_type": "code",
   "execution_count": 90,
   "metadata": {},
   "outputs": [],
   "source": [
    "#Finalize the windowing algorithm\n",
    "# 1 , 2 , 5 , 7, 10 , 24, 48\n",
    "\n",
    "NumOfWindows = 48\n",
    "TotalWindows = 48\n",
    "FeatureSet_L1 = pd.DataFrame()\n",
    "\n",
    "for L1 in Subject_id:\n",
    "    FeatureSet_L2 = pd.DataFrame()\n",
    "    IndexPerWindow = round(48/NumOfWindows)\n",
    "    Y = FeatureSetAGG.loc[FeatureSetAGG['subject_id'] == L1]\n",
    "    Y_Index = 0\n",
    "    IndexUsed = 0\n",
    "    for L2 in range(NumOfWindows):\n",
    "        Y_Agg = Y[Y_Index:Y_Index+IndexPerWindow]\n",
    "        Y_Agg,age = aggregationFunc(Y_Agg)\n",
    "        age = int(age)\n",
    "        IndexUsed = IndexUsed+IndexPerWindow\n",
    "        Y_Index = Y_Index+IndexPerWindow\n",
    "        if (L2 == NumOfWindows-2 ):\n",
    "            IndexPerWindow = 48-IndexUsed\n",
    "        if (age > 15):\n",
    "            FeatureSet_L2 = pd.concat([FeatureSet_L2,Y_Agg])\n",
    "    FeatureSet_L1 = pd.concat([FeatureSet_L1 ,FeatureSet_L2])"
   ]
  },
  {
   "cell_type": "code",
   "execution_count": 91,
   "metadata": {},
   "outputs": [],
   "source": [
    "Subject_id = pd.DataFrame()\n",
    "Subject_id = FeatureSet_L1.subject_id\n",
    "Subject_id.drop_duplicates(keep = 'first', inplace = True)"
   ]
  },
  {
   "cell_type": "code",
   "execution_count": 92,
   "metadata": {},
   "outputs": [],
   "source": [
    "result = []\n",
    "for X in Subject_id:\n",
    "    Feature = pd.DataFrame()\n",
    "    Y = FeatureSet_L1.loc[FeatureSet_L1['subject_id'] == X]\n",
    "    Z = Y.shape\n",
    "    Rows = Z[0]\n",
    "    result.append((X, Rows))"
   ]
  },
  {
   "cell_type": "code",
   "execution_count": 93,
   "metadata": {},
   "outputs": [],
   "source": [
    "result_df = pd.DataFrame(result,columns =['subject_id','Rows'])"
   ]
  },
  {
   "cell_type": "code",
   "execution_count": 94,
   "metadata": {},
   "outputs": [],
   "source": [
    "results = result_df.drop(result_df.index[result_df['Rows'] == 5])\n",
    "results.reset_index(drop=True,inplace=True)"
   ]
  },
  {
   "cell_type": "code",
   "execution_count": 95,
   "metadata": {},
   "outputs": [],
   "source": [
    "X1 = FeatureSet_L1.subject_id.isin(results.subject_id)\n",
    "Test = FeatureSet_L1[X1]"
   ]
  },
  {
   "cell_type": "code",
   "execution_count": 96,
   "metadata": {},
   "outputs": [],
   "source": [
    "FeatureSet_L1.to_csv('MIMIC_Windows/FSB_48Ws.csv', encoding='utf-8')"
   ]
  }
 ],
 "metadata": {
  "kernelspec": {
   "display_name": "Python 3.9.13",
   "language": "python",
   "name": "python3"
  },
  "language_info": {
   "codemirror_mode": {
    "name": "ipython",
    "version": 3
   },
   "file_extension": ".py",
   "mimetype": "text/x-python",
   "name": "python",
   "nbconvert_exporter": "python",
   "pygments_lexer": "ipython3",
   "version": "3.9.13"
  },
  "orig_nbformat": 4,
  "vscode": {
   "interpreter": {
    "hash": "48feb6360a00eb0f47f9c89bd4d436ba37b01dbe1c2db3c2c6dfcc0146625bee"
   }
  }
 },
 "nbformat": 4,
 "nbformat_minor": 2
}
