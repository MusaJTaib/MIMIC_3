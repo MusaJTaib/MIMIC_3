{
 "cells": [
  {
   "cell_type": "code",
   "execution_count": 17,
   "metadata": {},
   "outputs": [],
   "source": [
    "import pandas as pd\n",
    "import numpy as np\n",
    "from datetime import timedelta"
   ]
  },
  {
   "cell_type": "code",
   "execution_count": 18,
   "metadata": {},
   "outputs": [],
   "source": [
    "FeatureSetB_Raw = pd.read_csv('ProcessedFiles2/FeatureSetB_Raw.csv')"
   ]
  },
  {
   "cell_type": "code",
   "execution_count": 19,
   "metadata": {},
   "outputs": [],
   "source": [
    "def DaysFilter(Y):\n",
    "    #D2 = Y.date.isin(np.array([pd.Timestamp(Nextdate)]).astype('datetime64[ns]'))\n",
    "    Starttime = Y.time[0]\n",
    "    Startdate = Y.date[0]\n",
    "    Nextdate = Startdate + timedelta(days=1)\n",
    "    Lastdate = Nextdate  + timedelta(days=1)\n",
    "\n",
    "    D1 = Y.date.isin(np.array([Startdate]))\n",
    "    D2 = Y.date.isin(np.array([Nextdate]))\n",
    "    D3 = Y.date.isin(np.array([Lastdate]))\n",
    "    Y1 = Y[D1].copy()\n",
    "    Y2 = Y[D2].copy()\n",
    "    Y3 = Y[D3].copy()\n",
    "   \n",
    "\n",
    "    for i in Y3.index:\n",
    "        if(Y3['time'][i] <= Starttime):\n",
    "            continue\n",
    "        else:\n",
    "            Y3.drop(i, inplace=True)\n",
    "        \n",
    "    Yt = [Y1,Y2,Y3]\n",
    "    Y4 = pd.concat(Yt)\n",
    "    return Y4"
   ]
  },
  {
   "cell_type": "code",
   "execution_count": 20,
   "metadata": {},
   "outputs": [],
   "source": [
    "import progressbar \n",
    "FeatureSetB = pd.DataFrame()\n",
    "FeatureSetB['Date'] = pd.to_datetime(FeatureSetB_Raw.date, format='%Y-%m-%d')\n",
    "FeatureSetB['time'] = pd.to_datetime(FeatureSetB_Raw.time, format='%H:%M:%S')\n",
    "FeatureSetB['date'] = pd.to_datetime(FeatureSetB['Date']).dt.date\n",
    "FeatureSetB['Time'] = pd.to_datetime(FeatureSetB['time']).dt.time\n",
    "\n",
    "FeatureSetB_Raw['date'] = FeatureSetB['date']\n",
    "FeatureSetB_Raw['time'] = FeatureSetB['Time']\n",
    "\n",
    "FeatureSetB_Raw.sort_values(['subject_id','date','time'], ascending=[True, True, True],inplace=True)\n",
    "FeatureSetB_Raw.reset_index(drop=True,inplace=True)"
   ]
  },
  {
   "cell_type": "code",
   "execution_count": 21,
   "metadata": {},
   "outputs": [],
   "source": [
    "Subject_id = pd.DataFrame()\n",
    "Subject_id = FeatureSetB_Raw.subject_id\n",
    "Subject_id.drop_duplicates(keep = 'first', inplace = True)\n"
   ]
  },
  {
   "cell_type": "code",
   "execution_count": 22,
   "metadata": {},
   "outputs": [
    {
     "name": "stderr",
     "output_type": "stream",
     "text": [
      " [Elapsed Time: 0:00:41] 100%|##############################| (Time:  0:00:41) \n"
     ]
    }
   ],
   "source": [
    "widgets=[' [', progressbar.Timer(), '] ',progressbar.Percentage(),progressbar.Bar(),' (', progressbar.ETA(), ') ',]\n",
    "FeatureSet = pd.DataFrame()\n",
    "for X in progressbar.progressbar(Subject_id, widgets=widgets):\n",
    "    Y = FeatureSetB_Raw.loc[FeatureSetB_Raw['subject_id'] == X]\n",
    "    #print('Value of X',X)\n",
    "    Y.reset_index(drop=True,inplace=True)\n",
    "    Value = DaysFilter(Y)\n",
    "    FeatureSet = pd.concat([FeatureSet,Value])\n"
   ]
  },
  {
   "cell_type": "code",
   "execution_count": 23,
   "metadata": {},
   "outputs": [],
   "source": [
    "FeatureSet.reset_index(drop=True,inplace=True)"
   ]
  },
  {
   "cell_type": "code",
   "execution_count": 24,
   "metadata": {},
   "outputs": [],
   "source": [
    "FeatureSet.to_csv('FeatureSet/FS_48Hours.csv', encoding='utf-8')"
   ]
  }
 ],
 "metadata": {
  "kernelspec": {
   "display_name": "Python 3.9.13",
   "language": "python",
   "name": "python3"
  },
  "language_info": {
   "codemirror_mode": {
    "name": "ipython",
    "version": 3
   },
   "file_extension": ".py",
   "mimetype": "text/x-python",
   "name": "python",
   "nbconvert_exporter": "python",
   "pygments_lexer": "ipython3",
   "version": "3.9.13"
  },
  "orig_nbformat": 4,
  "vscode": {
   "interpreter": {
    "hash": "48feb6360a00eb0f47f9c89bd4d436ba37b01dbe1c2db3c2c6dfcc0146625bee"
   }
  }
 },
 "nbformat": 4,
 "nbformat_minor": 2
}
