{
 "cells": [
  {
   "cell_type": "code",
   "execution_count": 25,
   "metadata": {},
   "outputs": [],
   "source": [
    "import pandas as pd"
   ]
  },
  {
   "cell_type": "code",
   "execution_count": 26,
   "metadata": {},
   "outputs": [],
   "source": [
    "#Reading Files\n",
    "admissions = pd.read_csv('ProcessedFiles/admissions.csv')\n",
    "Age = pd.read_csv('ProcessedFiles/Age.csv')\n",
    "Bilrubin_Level = pd.read_csv('ProcessedFiles/Bilrubin_Level.csv')\n",
    "BT = pd.read_csv('ProcessedFiles/BT.csv')\n",
    "\n",
    "FIO2 = pd.read_csv('ProcessedFiles/FIO2.csv')\n",
    "GCSEyes = pd.read_csv('ProcessedFiles/GCSEyes.csv')\n",
    "GCSMotor = pd.read_csv('ProcessedFiles/GCSMotor.csv')\n",
    "GCSVerbal = pd.read_csv('ProcessedFiles/GCSVerbal.csv')\n",
    "\n",
    "Hematologic = pd.read_csv('ProcessedFiles/Hematologic.csv')\n",
    "HR = pd.read_csv('ProcessedFiles/HR.csv')\n",
    "MetaStaticCancer =  pd.read_csv('ProcessedFiles/MetaStaticCancer.csv')\n",
    "Mortality_Prediction = pd.read_csv('ProcessedFiles/Mortality_Prediction.csv')\n",
    "\n",
    "PAO2 = pd.read_csv('ProcessedFiles/PAO2.csv')\n",
    "Potassium_Level = pd.read_csv('ProcessedFiles/Potassium_Level.csv')\n",
    "SBC_Level = pd.read_csv('ProcessedFiles/SBC_Level.csv')\n",
    "SBP = pd.read_csv('ProcessedFiles/SBP.csv')\n",
    "\n",
    "services = pd.read_csv('ProcessedFiles/services.csv')\n",
    "Sodium_Level = pd.read_csv('ProcessedFiles/Sodium_Level.csv')\n",
    "SUN_Level = pd.read_csv('ProcessedFiles/SUN_Level.csv')\n",
    "Urin = pd.read_csv('ProcessedFiles/Urin.csv')\n",
    "\n",
    "WBCC_Level = pd.read_csv('ProcessedFiles/WBCC_Level.csv')"
   ]
  },
  {
   "cell_type": "code",
   "execution_count": null,
   "metadata": {},
   "outputs": [],
   "source": [
    "#Check if all BTS are in Farenheit"
   ]
  },
  {
   "cell_type": "code",
   "execution_count": 31,
   "metadata": {},
   "outputs": [],
   "source": [
    "counter = 0\n",
    "index = []\n",
    "value = []\n",
    "for x in BT.index:\n",
    "    if (BT['value'][x]<70.0):\n",
    "        counter = counter + 1\n",
    "        value.append(BT['value'][x])\n",
    "        index.append(x)\n",
    "#Counter shows there are still values not converted\n"
   ]
  },
  {
   "cell_type": "code",
   "execution_count": 28,
   "metadata": {},
   "outputs": [
    {
     "name": "stderr",
     "output_type": "stream",
     "text": [
      "/var/folders/rm/n2bp8v5126n_k9vmvqx96g_c0000gn/T/ipykernel_16742/3475630379.py:4: SettingWithCopyWarning: \n",
      "A value is trying to be set on a copy of a slice from a DataFrame\n",
      "\n",
      "See the caveats in the documentation: https://pandas.pydata.org/pandas-docs/stable/user_guide/indexing.html#returning-a-view-versus-a-copy\n",
      "  BT['value'][x] = (9/5)*BT['value'][x]+32\n"
     ]
    }
   ],
   "source": [
    "#Conversion\n",
    "for x in BT.index:\n",
    "    if (25.0 < BT['value'][x] < 70.0):\n",
    "        BT['value'][x] = (9/5)*BT['value'][x]+32\n"
   ]
  },
  {
   "cell_type": "code",
   "execution_count": 30,
   "metadata": {},
   "outputs": [
    {
     "name": "stderr",
     "output_type": "stream",
     "text": [
      "/var/folders/rm/n2bp8v5126n_k9vmvqx96g_c0000gn/T/ipykernel_16742/721038875.py:5: SettingWithCopyWarning: \n",
      "A value is trying to be set on a copy of a slice from a DataFrame\n",
      "\n",
      "See the caveats in the documentation: https://pandas.pydata.org/pandas-docs/stable/user_guide/indexing.html#returning-a-view-versus-a-copy\n",
      "  BT['value'][x] = np.nan\n"
     ]
    }
   ],
   "source": [
    "import numpy as np\n",
    "#For out of range values\n",
    "for x in BT.index:\n",
    "    if (BT['value'][x] < 70.0):\n",
    "        BT['value'][x] = np.nan"
   ]
  },
  {
   "cell_type": "code",
   "execution_count": 3,
   "metadata": {},
   "outputs": [
    {
     "data": {
      "text/plain": [
       "\"\\nBT_C = pd.read_csv('ProcessedFiles/BT_C.csv')\\nBT_F = pd.read_csv('ProcessedFiles/BT_F.csv')\\n\\nBT_C = BT_C.assign(Fahrenheit = lambda x: (9/5)*x['Celsius']+32)\\nBT_C.to_csv('ProcessedFiles/BT_CNew.csv', encoding='utf-8')\\n\\nBT = pd.DataFrame()\\nframes = [BT_F, BT_C]\\nBT = pd.concat(frames)\\nBT.to_csv('ProcessedFiles/BT.csv', encoding='utf-8')\\n\""
      ]
     },
     "execution_count": 3,
     "metadata": {},
     "output_type": "execute_result"
    }
   ],
   "source": [
    "'''\n",
    "BT_C = pd.read_csv('ProcessedFiles/BT_C.csv')\n",
    "BT_F = pd.read_csv('ProcessedFiles/BT_F.csv')\n",
    "\n",
    "BT_C = BT_C.assign(Fahrenheit = lambda x: (9/5)*x['Celsius']+32)\n",
    "BT_C.to_csv('ProcessedFiles/BT_CNew.csv', encoding='utf-8')\n",
    "\n",
    "BT = pd.DataFrame()\n",
    "frames = [BT_F, BT_C]\n",
    "BT = pd.concat(frames)\n",
    "BT.to_csv('ProcessedFiles/BT.csv', encoding='utf-8')\n",
    "'''"
   ]
  },
  {
   "cell_type": "code",
   "execution_count": 32,
   "metadata": {},
   "outputs": [],
   "source": [
    "Patients_List = admissions.subject_id"
   ]
  },
  {
   "cell_type": "code",
   "execution_count": 33,
   "metadata": {},
   "outputs": [],
   "source": [
    "X1 = Age.subject_id.isin(Patients_List)\n",
    "X2 = Bilrubin_Level.subject_id.isin(Patients_List)\n",
    "X3 = BT.subject_id.isin(Patients_List)\n",
    "X4 = FIO2.subject_id.isin(Patients_List)\n",
    "\n",
    "X5 = GCSEyes.subject_id.isin(Patients_List)\n",
    "X6 = GCSMotor.subject_id.isin(Patients_List)\n",
    "X7 = GCSVerbal.subject_id.isin(Patients_List)\n",
    "X8 = HR.subject_id.isin(Patients_List)\n",
    "\n",
    "X9 =  PAO2.subject_id.isin(Patients_List)\n",
    "X10 = Potassium_Level.subject_id.isin(Patients_List)\n",
    "X11 = SBC_Level.subject_id.isin(Patients_List)\n",
    "X12 = SBP.subject_id.isin(Patients_List)\n",
    "\n",
    "X13 = Sodium_Level.subject_id.isin(Patients_List)\n",
    "X14 = SUN_Level.subject_id.isin(Patients_List)\n",
    "X15 = Urin.subject_id.isin(Patients_List)\n",
    "X16 = WBCC_Level.subject_id.isin(Patients_List)"
   ]
  },
  {
   "cell_type": "code",
   "execution_count": 34,
   "metadata": {},
   "outputs": [],
   "source": [
    "Age = Age[X1]\n",
    "Bilrubin_Level = Bilrubin_Level[X2]\n",
    "BT = BT[X3]\n",
    "FIO2 = FIO2[X4]\n",
    "\n",
    "GCSEyes = GCSEyes[X5]\n",
    "GCSMotor = GCSMotor[X6]\n",
    "GCSVerbal = GCSVerbal[X7]\n",
    "HR = HR[X8]\n",
    "\n",
    "PAO2 = PAO2[X9]\n",
    "Potassium_Level = Potassium_Level[X10]\n",
    "SBC_Level = SBC_Level[X11]\n",
    "SBP = SBP[X12]\n",
    "\n",
    "Sodium_Level = Sodium_Level[X13]\n",
    "SUN_Level = SUN_Level[X14]\n",
    "Urin = Urin[X15]\n",
    "WBCC_Level = WBCC_Level[X16]"
   ]
  },
  {
   "cell_type": "code",
   "execution_count": 35,
   "metadata": {},
   "outputs": [],
   "source": [
    "counter = 0\n",
    "index = []\n",
    "value = []\n",
    "for x in BT.index:\n",
    "    if (BT['value'][x]<70):\n",
    "        counter = counter + 1\n",
    "        value.append(BT['value'][x])\n",
    "        index.append(x)\n",
    "#Counter shows there are still values not converted"
   ]
  },
  {
   "cell_type": "code",
   "execution_count": 36,
   "metadata": {},
   "outputs": [],
   "source": [
    "Age.drop('CurrentDate', axis=1, inplace=True)\n",
    "Age.drop('BirthDate', axis=1, inplace=True)"
   ]
  },
  {
   "cell_type": "code",
   "execution_count": 37,
   "metadata": {},
   "outputs": [],
   "source": [
    "Bilrubin_Level.drop('hadm_id', axis=1, inplace=True)\n",
    "Bilrubin_Level.drop('itemid', axis=1, inplace=True)\n",
    "Bilrubin_Level.drop('valuenum', axis=1, inplace=True)\n",
    "Bilrubin_Level.drop('valueuom', axis=1, inplace=True)"
   ]
  },
  {
   "cell_type": "code",
   "execution_count": 38,
   "metadata": {},
   "outputs": [],
   "source": [
    "BT.drop('hadm_id', axis=1, inplace=True)\n",
    "BT.drop('Celsius', axis=1, inplace=True)\n",
    "BT.drop('Fahrenheit', axis=1, inplace=True)\n",
    "BT.drop('itemid', axis=1, inplace=True)\n",
    "BT.drop('valuenum', axis=1, inplace=True)\n",
    "BT.drop('valueuom', axis=1, inplace=True)"
   ]
  },
  {
   "cell_type": "code",
   "execution_count": 39,
   "metadata": {},
   "outputs": [],
   "source": [
    "FIO2.drop('hadm_id', axis=1, inplace=True)\n",
    "FIO2.drop('itemid', axis=1, inplace=True)\n",
    "FIO2.drop('valuenum', axis=1, inplace=True)\n",
    "FIO2.drop('valueuom', axis=1, inplace=True)"
   ]
  },
  {
   "cell_type": "code",
   "execution_count": 40,
   "metadata": {},
   "outputs": [],
   "source": [
    "GCSEyes.drop('hadm_id', axis=1, inplace=True)\n",
    "GCSEyes.drop('itemid', axis=1, inplace=True)\n",
    "GCSEyes.drop('value', axis=1, inplace=True)\n",
    "GCSEyes.drop('valueuom', axis=1, inplace=True)"
   ]
  },
  {
   "cell_type": "code",
   "execution_count": 41,
   "metadata": {},
   "outputs": [],
   "source": [
    "GCSMotor.drop('hadm_id', axis=1, inplace=True)\n",
    "GCSMotor.drop('itemid', axis=1, inplace=True)\n",
    "GCSMotor.drop('value', axis=1, inplace=True)\n",
    "GCSMotor.drop('valueuom', axis=1, inplace=True)"
   ]
  },
  {
   "cell_type": "code",
   "execution_count": 42,
   "metadata": {},
   "outputs": [],
   "source": [
    "GCSVerbal.drop('hadm_id', axis=1, inplace=True)\n",
    "GCSVerbal.drop('itemid', axis=1, inplace=True)\n",
    "GCSVerbal.drop('value', axis=1, inplace=True)\n",
    "GCSVerbal.drop('valueuom', axis=1, inplace=True)"
   ]
  },
  {
   "cell_type": "code",
   "execution_count": 43,
   "metadata": {},
   "outputs": [],
   "source": [
    "HR.drop('hadm_id', axis=1, inplace=True)\n",
    "HR.drop('itemid', axis=1, inplace=True)\n",
    "HR.drop('value', axis=1, inplace=True)\n",
    "HR.drop('valueuom', axis=1, inplace=True)"
   ]
  },
  {
   "cell_type": "code",
   "execution_count": 44,
   "metadata": {},
   "outputs": [],
   "source": [
    "PAO2.drop('hadm_id', axis=1, inplace=True)\n",
    "PAO2.drop('itemid', axis=1, inplace=True)\n",
    "PAO2.drop('value', axis=1, inplace=True)\n",
    "PAO2.drop('valueuom', axis=1, inplace=True)"
   ]
  },
  {
   "cell_type": "code",
   "execution_count": 45,
   "metadata": {},
   "outputs": [],
   "source": [
    "Potassium_Level.drop('hadm_id', axis=1, inplace=True)\n",
    "Potassium_Level.drop('itemid', axis=1, inplace=True)\n",
    "Potassium_Level.drop('value', axis=1, inplace=True)\n",
    "Potassium_Level.drop('valueuom', axis=1, inplace=True)"
   ]
  },
  {
   "cell_type": "code",
   "execution_count": 46,
   "metadata": {},
   "outputs": [],
   "source": [
    "SBC_Level.drop('hadm_id', axis=1, inplace=True)\n",
    "SBC_Level.drop('itemid', axis=1, inplace=True)\n",
    "SBC_Level.drop('value', axis=1, inplace=True)\n",
    "SBC_Level.drop('valueuom', axis=1, inplace=True)"
   ]
  },
  {
   "cell_type": "code",
   "execution_count": 47,
   "metadata": {},
   "outputs": [],
   "source": [
    "SBP.drop('hadm_id', axis=1, inplace=True)\n",
    "SBP.drop('itemid', axis=1, inplace=True)\n",
    "SBP.drop('value', axis=1, inplace=True)\n",
    "SBP.drop('valueuom', axis=1, inplace=True)"
   ]
  },
  {
   "cell_type": "code",
   "execution_count": 48,
   "metadata": {},
   "outputs": [],
   "source": [
    "Sodium_Level.drop('hadm_id', axis=1, inplace=True)\n",
    "Sodium_Level.drop('itemid', axis=1, inplace=True)\n",
    "Sodium_Level.drop('value', axis=1, inplace=True)\n",
    "Sodium_Level.drop('valueuom', axis=1, inplace=True)"
   ]
  },
  {
   "cell_type": "code",
   "execution_count": 49,
   "metadata": {},
   "outputs": [],
   "source": [
    "SUN_Level.drop('hadm_id', axis=1, inplace=True)\n",
    "SUN_Level.drop('itemid', axis=1, inplace=True)\n",
    "SUN_Level.drop('value', axis=1, inplace=True)\n",
    "SUN_Level.drop('valueuom', axis=1, inplace=True)"
   ]
  },
  {
   "cell_type": "code",
   "execution_count": 50,
   "metadata": {},
   "outputs": [],
   "source": [
    "WBCC_Level.drop('hadm_id', axis=1, inplace=True)\n",
    "WBCC_Level.drop('itemid', axis=1, inplace=True)\n",
    "WBCC_Level.drop('value', axis=1, inplace=True)\n",
    "WBCC_Level.drop('valueuom', axis=1, inplace=True)"
   ]
  },
  {
   "cell_type": "code",
   "execution_count": 51,
   "metadata": {},
   "outputs": [],
   "source": [
    "Urin.drop('hadm_id', axis=1, inplace=True)\n",
    "Urin.drop('itemid', axis=1, inplace=True)\n",
    "Urin.drop('valueuom', axis=1, inplace=True)"
   ]
  },
  {
   "cell_type": "code",
   "execution_count": 52,
   "metadata": {},
   "outputs": [],
   "source": [
    "#Saving Files\n",
    "admissions.to_csv('ProcessedFiles2/admissions.csv', encoding='utf-8')\n",
    "Age.to_csv('ProcessedFiles2/Age.csv', encoding='utf-8')\n",
    "Bilrubin_Level.to_csv('ProcessedFiles2/Bilrubin_Level.csv', encoding='utf-8')\n",
    "BT.to_csv('ProcessedFiles2/BT.csv', encoding='utf-8')\n",
    "\n",
    "FIO2.to_csv('ProcessedFiles2/FIO2.csv', encoding='utf-8')\n",
    "GCSEyes.to_csv('ProcessedFiles2/GCSEyes.csv', encoding='utf-8')\n",
    "GCSMotor.to_csv('ProcessedFiles2/GCSMotor.csv', encoding='utf-8')\n",
    "GCSVerbal.to_csv('ProcessedFiles2/GCSVerbal.csv', encoding='utf-8')\n",
    "\n",
    "Hematologic.to_csv('ProcessedFiles2/Hematologic.csv', encoding='utf-8')\n",
    "HR.to_csv('ProcessedFiles2/HR.csv', encoding='utf-8')\n",
    "MetaStaticCancer.to_csv('ProcessedFiles2/MetaStaticCancer.csv', encoding='utf-8')\n",
    "Mortality_Prediction.to_csv('ProcessedFiles2/Mortality_Prediction.csv', encoding='utf-8')\n",
    "\n",
    "PAO2.to_csv('ProcessedFiles2/PAO2.csv', encoding='utf-8')\n",
    "Potassium_Level.to_csv('ProcessedFiles2/Potassium_Level.csv', encoding='utf-8')\n",
    "SBC_Level.to_csv('ProcessedFiles2/SBC_Level.csv', encoding='utf-8')\n",
    "SBP.to_csv('ProcessedFiles2/SBP.csv', encoding='utf-8')\n",
    "\n",
    "services.to_csv('ProcessedFiles2/services.csv', encoding='utf-8')\n",
    "Sodium_Level.to_csv('ProcessedFiles2/Sodium_Level.csv', encoding='utf-8')\n",
    "SUN_Level.to_csv('ProcessedFiles2/SUN_Level.csv', encoding='utf-8')\n",
    "Urin.to_csv('ProcessedFiles2/Urin.csv', encoding='utf-8')\n",
    "\n",
    "WBCC_Level.to_csv('ProcessedFiles2/WBCC_Level.csv', encoding='utf-8')"
   ]
  }
 ],
 "metadata": {
  "kernelspec": {
   "display_name": "Python 3.9.13",
   "language": "python",
   "name": "python3"
  },
  "language_info": {
   "codemirror_mode": {
    "name": "ipython",
    "version": 3
   },
   "file_extension": ".py",
   "mimetype": "text/x-python",
   "name": "python",
   "nbconvert_exporter": "python",
   "pygments_lexer": "ipython3",
   "version": "3.9.13"
  },
  "orig_nbformat": 4,
  "vscode": {
   "interpreter": {
    "hash": "48feb6360a00eb0f47f9c89bd4d436ba37b01dbe1c2db3c2c6dfcc0146625bee"
   }
  }
 },
 "nbformat": 4,
 "nbformat_minor": 2
}
